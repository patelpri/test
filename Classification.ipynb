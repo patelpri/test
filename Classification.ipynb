{
 "cells": [
  {
   "cell_type": "code",
   "execution_count": 8,
   "metadata": {
    "collapsed": false
   },
   "outputs": [],
   "source": [
    "import pandas as pd\n",
    "import numpy as np\n",
    "import string\n",
    "\n",
    "dtype_dict = {'name':str, 'review':str, 'rating':int}\n",
    "\n",
    "products=pd.read_csv('amazon_baby.csv',dtype=dtype_dict)"
   ]
  },
  {
   "cell_type": "code",
   "execution_count": 9,
   "metadata": {
    "collapsed": false
   },
   "outputs": [
    {
     "data": {
      "text/plain": [
       "pandas.indexes.range.RangeIndex"
      ]
     },
     "execution_count": 9,
     "metadata": {},
     "output_type": "execute_result"
    }
   ],
   "source": [
    "type(products.index)"
   ]
  },
  {
   "cell_type": "code",
   "execution_count": 10,
   "metadata": {
    "collapsed": false
   },
   "outputs": [
    {
     "data": {
      "text/html": [
       "<div>\n",
       "<table border=\"1\" class=\"dataframe\">\n",
       "  <thead>\n",
       "    <tr style=\"text-align: right;\">\n",
       "      <th></th>\n",
       "      <th>name</th>\n",
       "      <th>review</th>\n",
       "      <th>rating</th>\n",
       "    </tr>\n",
       "  </thead>\n",
       "  <tbody>\n",
       "    <tr>\n",
       "      <th>0</th>\n",
       "      <td>Planetwise Flannel Wipes</td>\n",
       "      <td>These flannel wipes are OK, but in my opinion ...</td>\n",
       "      <td>3</td>\n",
       "    </tr>\n",
       "    <tr>\n",
       "      <th>1</th>\n",
       "      <td>Planetwise Wipe Pouch</td>\n",
       "      <td>it came early and was not disappointed. i love...</td>\n",
       "      <td>5</td>\n",
       "    </tr>\n",
       "    <tr>\n",
       "      <th>2</th>\n",
       "      <td>Annas Dream Full Quilt with 2 Shams</td>\n",
       "      <td>Very soft and comfortable and warmer than it l...</td>\n",
       "      <td>5</td>\n",
       "    </tr>\n",
       "    <tr>\n",
       "      <th>3</th>\n",
       "      <td>Stop Pacifier Sucking without tears with Thumb...</td>\n",
       "      <td>This is a product well worth the purchase.  I ...</td>\n",
       "      <td>5</td>\n",
       "    </tr>\n",
       "    <tr>\n",
       "      <th>4</th>\n",
       "      <td>Stop Pacifier Sucking without tears with Thumb...</td>\n",
       "      <td>All of my kids have cried non-stop when I trie...</td>\n",
       "      <td>5</td>\n",
       "    </tr>\n",
       "  </tbody>\n",
       "</table>\n",
       "</div>"
      ],
      "text/plain": [
       "                                                name  \\\n",
       "0                           Planetwise Flannel Wipes   \n",
       "1                              Planetwise Wipe Pouch   \n",
       "2                Annas Dream Full Quilt with 2 Shams   \n",
       "3  Stop Pacifier Sucking without tears with Thumb...   \n",
       "4  Stop Pacifier Sucking without tears with Thumb...   \n",
       "\n",
       "                                              review  rating  \n",
       "0  These flannel wipes are OK, but in my opinion ...       3  \n",
       "1  it came early and was not disappointed. i love...       5  \n",
       "2  Very soft and comfortable and warmer than it l...       5  \n",
       "3  This is a product well worth the purchase.  I ...       5  \n",
       "4  All of my kids have cried non-stop when I trie...       5  "
      ]
     },
     "execution_count": 10,
     "metadata": {},
     "output_type": "execute_result"
    }
   ],
   "source": [
    "products.head()"
   ]
  },
  {
   "cell_type": "code",
   "execution_count": 11,
   "metadata": {
    "collapsed": false
   },
   "outputs": [
    {
     "data": {
      "text/plain": [
       "183531"
      ]
     },
     "execution_count": 11,
     "metadata": {},
     "output_type": "execute_result"
    }
   ],
   "source": [
    "len(products)"
   ]
  },
  {
   "cell_type": "code",
   "execution_count": null,
   "metadata": {
    "collapsed": false
   },
   "outputs": [],
   "source": []
  },
  {
   "cell_type": "code",
   "execution_count": 13,
   "metadata": {
    "collapsed": false
   },
   "outputs": [
    {
     "name": "stdout",
     "output_type": "stream",
     "text": [
      "name object\n",
      "review object\n",
      "rating int64\n"
     ]
    }
   ],
   "source": [
    "for c in products.columns:\n",
    "    print(c, products[c].dtype)"
   ]
  },
  {
   "cell_type": "markdown",
   "metadata": {},
   "source": [
    "Perform text cleaning\n",
    "\n",
    "2. We start by removing punctuation, so that words \"cake.\" and \"cake!\" are counted as the same word.\n",
    "\n",
    "Write a function remove_punctuation that strips punctuation from a line of text\n",
    "Apply this function to every element in the review column of products, and save the result to a new column review_clean.\n",
    "\n",
    "Aside. In this notebook, we remove all punctuation for the sake of simplicity. A smarter approach to punctuation would preserve phrases such as \"I'd\", \"would've\", \"hadn't\" and so forth. See this page for an example of smart handling of punctuation.\n",
    "\n",
    "IMPORTANT. Make sure to fill n/a values in the review column with empty strings (if applicable). The n/a values indicate empty reviews. For instance, Pandas's the fillna() method lets you replace all N/A's in the review columns as follows:"
   ]
  },
  {
   "cell_type": "code",
   "execution_count": 14,
   "metadata": {
    "collapsed": false
   },
   "outputs": [],
   "source": [
    "def remove_punctuation(text):\n",
    "   # if not isinstance(text, str):\n",
    "        #return text\n",
    "    import string\n",
    "    translator = str.maketrans({key: None for key in string.punctuation})\n",
    "    return text.translate(translator) \n",
    "\n",
    "products = products.fillna({'review':''})\n",
    "\n",
    "products['review_clean'] = products['review'].apply(remove_punctuation)"
   ]
  },
  {
   "cell_type": "code",
   "execution_count": 15,
   "metadata": {
    "collapsed": false
   },
   "outputs": [
    {
     "data": {
      "text/html": [
       "<div>\n",
       "<table border=\"1\" class=\"dataframe\">\n",
       "  <thead>\n",
       "    <tr style=\"text-align: right;\">\n",
       "      <th></th>\n",
       "      <th>name</th>\n",
       "      <th>review</th>\n",
       "      <th>rating</th>\n",
       "      <th>review_clean</th>\n",
       "    </tr>\n",
       "  </thead>\n",
       "  <tbody>\n",
       "    <tr>\n",
       "      <th>0</th>\n",
       "      <td>Planetwise Flannel Wipes</td>\n",
       "      <td>These flannel wipes are OK, but in my opinion ...</td>\n",
       "      <td>3</td>\n",
       "      <td>These flannel wipes are OK but in my opinion n...</td>\n",
       "    </tr>\n",
       "    <tr>\n",
       "      <th>1</th>\n",
       "      <td>Planetwise Wipe Pouch</td>\n",
       "      <td>it came early and was not disappointed. i love...</td>\n",
       "      <td>5</td>\n",
       "      <td>it came early and was not disappointed i love ...</td>\n",
       "    </tr>\n",
       "    <tr>\n",
       "      <th>2</th>\n",
       "      <td>Annas Dream Full Quilt with 2 Shams</td>\n",
       "      <td>Very soft and comfortable and warmer than it l...</td>\n",
       "      <td>5</td>\n",
       "      <td>Very soft and comfortable and warmer than it l...</td>\n",
       "    </tr>\n",
       "    <tr>\n",
       "      <th>3</th>\n",
       "      <td>Stop Pacifier Sucking without tears with Thumb...</td>\n",
       "      <td>This is a product well worth the purchase.  I ...</td>\n",
       "      <td>5</td>\n",
       "      <td>This is a product well worth the purchase  I h...</td>\n",
       "    </tr>\n",
       "    <tr>\n",
       "      <th>4</th>\n",
       "      <td>Stop Pacifier Sucking without tears with Thumb...</td>\n",
       "      <td>All of my kids have cried non-stop when I trie...</td>\n",
       "      <td>5</td>\n",
       "      <td>All of my kids have cried nonstop when I tried...</td>\n",
       "    </tr>\n",
       "  </tbody>\n",
       "</table>\n",
       "</div>"
      ],
      "text/plain": [
       "                                                name  \\\n",
       "0                           Planetwise Flannel Wipes   \n",
       "1                              Planetwise Wipe Pouch   \n",
       "2                Annas Dream Full Quilt with 2 Shams   \n",
       "3  Stop Pacifier Sucking without tears with Thumb...   \n",
       "4  Stop Pacifier Sucking without tears with Thumb...   \n",
       "\n",
       "                                              review  rating  \\\n",
       "0  These flannel wipes are OK, but in my opinion ...       3   \n",
       "1  it came early and was not disappointed. i love...       5   \n",
       "2  Very soft and comfortable and warmer than it l...       5   \n",
       "3  This is a product well worth the purchase.  I ...       5   \n",
       "4  All of my kids have cried non-stop when I trie...       5   \n",
       "\n",
       "                                        review_clean  \n",
       "0  These flannel wipes are OK but in my opinion n...  \n",
       "1  it came early and was not disappointed i love ...  \n",
       "2  Very soft and comfortable and warmer than it l...  \n",
       "3  This is a product well worth the purchase  I h...  \n",
       "4  All of my kids have cried nonstop when I tried...  "
      ]
     },
     "execution_count": 15,
     "metadata": {},
     "output_type": "execute_result"
    }
   ],
   "source": [
    "products.head()"
   ]
  },
  {
   "cell_type": "markdown",
   "metadata": {},
   "source": [
    "\n",
    "We will ignore all reviews with rating = 3, since they tend to have a neutral sentimen"
   ]
  },
  {
   "cell_type": "code",
   "execution_count": 16,
   "metadata": {
    "collapsed": true
   },
   "outputs": [],
   "source": [
    "products = products[products['rating'] != 3]"
   ]
  },
  {
   "cell_type": "code",
   "execution_count": 17,
   "metadata": {
    "collapsed": false
   },
   "outputs": [
    {
     "data": {
      "text/plain": [
       "166752"
      ]
     },
     "execution_count": 17,
     "metadata": {},
     "output_type": "execute_result"
    }
   ],
   "source": [
    "len(products)"
   ]
  },
  {
   "cell_type": "markdown",
   "metadata": {},
   "source": [
    "Now, we will assign reviews with a rating of 4 or higher to be positive reviews, while the ones with rating of 2 or lower are negative. For the sentiment column, we use +1 for the positive class label and -1 for the negative class label. A good way is to create an anonymous function that converts a rating into a class label and then apply that function to every element in the rating column."
   ]
  },
  {
   "cell_type": "code",
   "execution_count": 18,
   "metadata": {
    "collapsed": true
   },
   "outputs": [],
   "source": [
    "products['sentiment'] = products['rating'].apply(lambda rating : +1 if rating > 3 else -1)"
   ]
  },
  {
   "cell_type": "code",
   "execution_count": 19,
   "metadata": {
    "collapsed": false
   },
   "outputs": [
    {
     "data": {
      "text/html": [
       "<div>\n",
       "<table border=\"1\" class=\"dataframe\">\n",
       "  <thead>\n",
       "    <tr style=\"text-align: right;\">\n",
       "      <th></th>\n",
       "      <th>name</th>\n",
       "      <th>review</th>\n",
       "      <th>rating</th>\n",
       "      <th>review_clean</th>\n",
       "      <th>sentiment</th>\n",
       "    </tr>\n",
       "  </thead>\n",
       "  <tbody>\n",
       "    <tr>\n",
       "      <th>1</th>\n",
       "      <td>Planetwise Wipe Pouch</td>\n",
       "      <td>it came early and was not disappointed. i love...</td>\n",
       "      <td>5</td>\n",
       "      <td>it came early and was not disappointed i love ...</td>\n",
       "      <td>1</td>\n",
       "    </tr>\n",
       "    <tr>\n",
       "      <th>2</th>\n",
       "      <td>Annas Dream Full Quilt with 2 Shams</td>\n",
       "      <td>Very soft and comfortable and warmer than it l...</td>\n",
       "      <td>5</td>\n",
       "      <td>Very soft and comfortable and warmer than it l...</td>\n",
       "      <td>1</td>\n",
       "    </tr>\n",
       "    <tr>\n",
       "      <th>3</th>\n",
       "      <td>Stop Pacifier Sucking without tears with Thumb...</td>\n",
       "      <td>This is a product well worth the purchase.  I ...</td>\n",
       "      <td>5</td>\n",
       "      <td>This is a product well worth the purchase  I h...</td>\n",
       "      <td>1</td>\n",
       "    </tr>\n",
       "    <tr>\n",
       "      <th>4</th>\n",
       "      <td>Stop Pacifier Sucking without tears with Thumb...</td>\n",
       "      <td>All of my kids have cried non-stop when I trie...</td>\n",
       "      <td>5</td>\n",
       "      <td>All of my kids have cried nonstop when I tried...</td>\n",
       "      <td>1</td>\n",
       "    </tr>\n",
       "    <tr>\n",
       "      <th>5</th>\n",
       "      <td>Stop Pacifier Sucking without tears with Thumb...</td>\n",
       "      <td>When the Binky Fairy came to our house, we did...</td>\n",
       "      <td>5</td>\n",
       "      <td>When the Binky Fairy came to our house we didn...</td>\n",
       "      <td>1</td>\n",
       "    </tr>\n",
       "  </tbody>\n",
       "</table>\n",
       "</div>"
      ],
      "text/plain": [
       "                                                name  \\\n",
       "1                              Planetwise Wipe Pouch   \n",
       "2                Annas Dream Full Quilt with 2 Shams   \n",
       "3  Stop Pacifier Sucking without tears with Thumb...   \n",
       "4  Stop Pacifier Sucking without tears with Thumb...   \n",
       "5  Stop Pacifier Sucking without tears with Thumb...   \n",
       "\n",
       "                                              review  rating  \\\n",
       "1  it came early and was not disappointed. i love...       5   \n",
       "2  Very soft and comfortable and warmer than it l...       5   \n",
       "3  This is a product well worth the purchase.  I ...       5   \n",
       "4  All of my kids have cried non-stop when I trie...       5   \n",
       "5  When the Binky Fairy came to our house, we did...       5   \n",
       "\n",
       "                                        review_clean  sentiment  \n",
       "1  it came early and was not disappointed i love ...          1  \n",
       "2  Very soft and comfortable and warmer than it l...          1  \n",
       "3  This is a product well worth the purchase  I h...          1  \n",
       "4  All of my kids have cried nonstop when I tried...          1  \n",
       "5  When the Binky Fairy came to our house we didn...          1  "
      ]
     },
     "execution_count": 19,
     "metadata": {},
     "output_type": "execute_result"
    }
   ],
   "source": [
    "products.head()"
   ]
  },
  {
   "cell_type": "code",
   "execution_count": 20,
   "metadata": {
    "collapsed": false
   },
   "outputs": [],
   "source": [
    "test_f = pd.read_json(\"module-2-assignment-test-idx.json\")\n",
    "train_f = pd.read_json(\"module-2-assignment-train-idx.json\")"
   ]
  },
  {
   "cell_type": "code",
   "execution_count": 21,
   "metadata": {
    "collapsed": false
   },
   "outputs": [],
   "source": [
    "train_data=products.iloc[train_f[0].values]\n",
    "test_data=products.iloc[test_f[0].values]"
   ]
  },
  {
   "cell_type": "code",
   "execution_count": 22,
   "metadata": {
    "collapsed": false
   },
   "outputs": [
    {
     "data": {
      "text/html": [
       "<div>\n",
       "<table border=\"1\" class=\"dataframe\">\n",
       "  <thead>\n",
       "    <tr style=\"text-align: right;\">\n",
       "      <th></th>\n",
       "      <th>name</th>\n",
       "      <th>review</th>\n",
       "      <th>rating</th>\n",
       "      <th>review_clean</th>\n",
       "      <th>sentiment</th>\n",
       "    </tr>\n",
       "  </thead>\n",
       "  <tbody>\n",
       "    <tr>\n",
       "      <th>9</th>\n",
       "      <td>Baby Tracker&amp;reg; - Daily Childcare Journal, S...</td>\n",
       "      <td>This has been an easy way for my nanny to reco...</td>\n",
       "      <td>4</td>\n",
       "      <td>This has been an easy way for my nanny to reco...</td>\n",
       "      <td>1</td>\n",
       "    </tr>\n",
       "    <tr>\n",
       "      <th>10</th>\n",
       "      <td>Baby Tracker&amp;reg; - Daily Childcare Journal, S...</td>\n",
       "      <td>I love this journal and our nanny uses it ever...</td>\n",
       "      <td>4</td>\n",
       "      <td>I love this journal and our nanny uses it ever...</td>\n",
       "      <td>1</td>\n",
       "    </tr>\n",
       "    <tr>\n",
       "      <th>16</th>\n",
       "      <td>Nature's Lullabies First Year Sticker Calendar</td>\n",
       "      <td>I love this little calender, you can keep trac...</td>\n",
       "      <td>5</td>\n",
       "      <td>I love this little calender you can keep track...</td>\n",
       "      <td>1</td>\n",
       "    </tr>\n",
       "    <tr>\n",
       "      <th>20</th>\n",
       "      <td>Nature's Lullabies Second Year Sticker Calendar</td>\n",
       "      <td>I had a hard time finding a second year calend...</td>\n",
       "      <td>5</td>\n",
       "      <td>I had a hard time finding a second year calend...</td>\n",
       "      <td>1</td>\n",
       "    </tr>\n",
       "    <tr>\n",
       "      <th>28</th>\n",
       "      <td>Lamaze Peekaboo, I Love You</td>\n",
       "      <td>One of baby's first and favorite books, and it...</td>\n",
       "      <td>4</td>\n",
       "      <td>One of babys first and favorite books and it i...</td>\n",
       "      <td>1</td>\n",
       "    </tr>\n",
       "  </tbody>\n",
       "</table>\n",
       "</div>"
      ],
      "text/plain": [
       "                                                 name  \\\n",
       "9   Baby Tracker&reg; - Daily Childcare Journal, S...   \n",
       "10  Baby Tracker&reg; - Daily Childcare Journal, S...   \n",
       "16     Nature's Lullabies First Year Sticker Calendar   \n",
       "20    Nature's Lullabies Second Year Sticker Calendar   \n",
       "28                        Lamaze Peekaboo, I Love You   \n",
       "\n",
       "                                               review  rating  \\\n",
       "9   This has been an easy way for my nanny to reco...       4   \n",
       "10  I love this journal and our nanny uses it ever...       4   \n",
       "16  I love this little calender, you can keep trac...       5   \n",
       "20  I had a hard time finding a second year calend...       5   \n",
       "28  One of baby's first and favorite books, and it...       4   \n",
       "\n",
       "                                         review_clean  sentiment  \n",
       "9   This has been an easy way for my nanny to reco...          1  \n",
       "10  I love this journal and our nanny uses it ever...          1  \n",
       "16  I love this little calender you can keep track...          1  \n",
       "20  I had a hard time finding a second year calend...          1  \n",
       "28  One of babys first and favorite books and it i...          1  "
      ]
     },
     "execution_count": 22,
     "metadata": {},
     "output_type": "execute_result"
    }
   ],
   "source": [
    "test_data.head()"
   ]
  },
  {
   "cell_type": "markdown",
   "metadata": {},
   "source": [
    "### Build the word count vector for each review\n",
    "\n",
    "We will now compute the word count for each word that appears in the reviews. A vector consisting of word counts is often referred to as **bag-of-word** features. Since most words occur in only a few reviews, word count vectors are sparse. For this reason, scikit-learn and many other tools use sparse matrices to store a collection of word count vectors. Refer to appropriate manuals to produce sparse word count vectors. General steps for extracting word count vectors are as follows:\n",
    "\n",
    "* Learn a vocabulary (set of all words) from the training data. Only the words that show up in the training data will be considered for feature extraction.\n",
    "* Compute the occurrences of the words in each review and collect them into a row vector.\n",
    "* Build a sparse matrix where each row is the word count vector for the corresponding review. Call this matrix train_matrix.\n",
    "* Using the same mapping between words and columns, convert the test data into a sparse matrix test_matrix.\n",
    "The following cell uses CountVectorizer in scikit-learn. Notice the token_pattern argument in the constructor."
   ]
  },
  {
   "cell_type": "code",
   "execution_count": 23,
   "metadata": {
    "collapsed": true
   },
   "outputs": [],
   "source": [
    "from sklearn.feature_extraction.text import CountVectorizer\n",
    "\n",
    "vectorizer = CountVectorizer(token_pattern=r'\\b\\w+\\b')\n",
    "     # Use this token pattern to keep single-letter words\n",
    "# First, learn vocabulary from the training data and assign columns to words\n",
    "# Then convert the training data into a sparse matrix\n",
    "train_matrix = vectorizer.fit_transform(train_data['review_clean'])\n",
    "# Second, convert the test data into a sparse matrix, using the same word-column mapping\n",
    "test_matrix = vectorizer.transform(test_data['review_clean'])"
   ]
  },
  {
   "cell_type": "code",
   "execution_count": 24,
   "metadata": {
    "collapsed": false
   },
   "outputs": [
    {
     "data": {
      "text/plain": [
       "<133416x121712 sparse matrix of type '<class 'numpy.int64'>'\n",
       "\twith 7326618 stored elements in Compressed Sparse Row format>"
      ]
     },
     "execution_count": 24,
     "metadata": {},
     "output_type": "execute_result"
    }
   ],
   "source": [
    "train_matrix"
   ]
  },
  {
   "cell_type": "code",
   "execution_count": 25,
   "metadata": {
    "collapsed": false
   },
   "outputs": [
    {
     "data": {
      "text/plain": [
       "((133416, 5), (133416, 121712), (33336, 5), (33336, 121712))"
      ]
     },
     "execution_count": 25,
     "metadata": {},
     "output_type": "execute_result"
    }
   ],
   "source": [
    "train_data.shape, train_matrix.shape, test_data.shape, test_matrix.shape"
   ]
  },
  {
   "cell_type": "code",
   "execution_count": 26,
   "metadata": {
    "collapsed": false
   },
   "outputs": [
    {
     "data": {
      "text/plain": [
       "<1x121712 sparse matrix of type '<class 'numpy.int64'>'\n",
       "\twith 24 stored elements in Compressed Sparse Row format>"
      ]
     },
     "execution_count": 26,
     "metadata": {},
     "output_type": "execute_result"
    }
   ],
   "source": [
    "train_matrix[0]"
   ]
  },
  {
   "cell_type": "code",
   "execution_count": 27,
   "metadata": {
    "collapsed": false
   },
   "outputs": [
    {
     "data": {
      "text/plain": [
       "True"
      ]
     },
     "execution_count": 27,
     "metadata": {},
     "output_type": "execute_result"
    }
   ],
   "source": [
    "max([x==\"hard\" for x in vectorizer.get_feature_names()])"
   ]
  },
  {
   "cell_type": "code",
   "execution_count": 29,
   "metadata": {
    "collapsed": false
   },
   "outputs": [
    {
     "data": {
      "text/plain": [
       "array([[0, 0, 0, ..., 0, 0, 0]])"
      ]
     },
     "execution_count": 29,
     "metadata": {},
     "output_type": "execute_result"
    }
   ],
   "source": [
    "train_matrix[0].toarray()"
   ]
  },
  {
   "cell_type": "markdown",
   "metadata": {},
   "source": [
    "### Train a sentiment classifier with logistic regression\n",
    "\n",
    "We will now use logistic regression to create a sentiment classifier on the training data.\n",
    "\n",
    "* Learn a logistic regression classifier using the training data. If you are using scikit-learn, you should create an instance of the LogisticRegression class and then call the method fit() to train the classifier. This model should use the sparse word count matrix (train_matrix) as features and the column sentiment of train_data as the target. Use the default values for other parameters. Call this model sentiment_model.\n",
    "\n",
    "* There should be over 100,000 coefficients in this sentiment_model. Recall from the lecture that positive weights w_j correspond to weights that cause positive sentiment, while negative weights correspond to negative sentiment. Calculate the number of positive (>= 0, which is actually nonnegative) coefficients."
   ]
  },
  {
   "cell_type": "code",
   "execution_count": 30,
   "metadata": {
    "collapsed": true
   },
   "outputs": [],
   "source": [
    "from sklearn import linear_model"
   ]
  },
  {
   "cell_type": "code",
   "execution_count": 31,
   "metadata": {
    "collapsed": true
   },
   "outputs": [],
   "source": [
    "sentiment_model = linear_model.LogisticRegression()"
   ]
  },
  {
   "cell_type": "code",
   "execution_count": 34,
   "metadata": {
    "collapsed": false
   },
   "outputs": [
    {
     "data": {
      "text/plain": [
       "LogisticRegression(C=1.0, class_weight=None, dual=False, fit_intercept=True,\n",
       "          intercept_scaling=1, max_iter=100, multi_class='ovr', n_jobs=1,\n",
       "          penalty='l2', random_state=None, solver='liblinear', tol=0.0001,\n",
       "          verbose=0, warm_start=False)"
      ]
     },
     "execution_count": 34,
     "metadata": {},
     "output_type": "execute_result"
    }
   ],
   "source": [
    "sentiment_model.fit(train_matrix,train_data['sentiment'])"
   ]
  },
  {
   "cell_type": "code",
   "execution_count": 48,
   "metadata": {
    "collapsed": false
   },
   "outputs": [
    {
     "data": {
      "text/plain": [
       "85858"
      ]
     },
     "execution_count": 48,
     "metadata": {},
     "output_type": "execute_result"
    }
   ],
   "source": [
    "sum([x>=0 for x in sentiment_model.coef_[0]])"
   ]
  },
  {
   "cell_type": "code",
   "execution_count": 49,
   "metadata": {
    "collapsed": false
   },
   "outputs": [
    {
     "data": {
      "text/plain": [
       "35854"
      ]
     },
     "execution_count": 49,
     "metadata": {},
     "output_type": "execute_result"
    }
   ],
   "source": [
    "sum([x<0 for x in sentiment_model.coef_[0]])"
   ]
  },
  {
   "cell_type": "markdown",
   "metadata": {},
   "source": [
    "Making predictions with logistic regression\n",
    "\n",
    "* Now that a model is trained, we can make predictions on the test data. In this section, we will explore this in the context of 3 data points in the test data. Take the 11th, 12th, and 13th data points in the test data and save them to sample_test_data. The following cell extracts the three data points from the SFrame test_data and print their content:"
   ]
  },
  {
   "cell_type": "code",
   "execution_count": 51,
   "metadata": {
    "collapsed": false
   },
   "outputs": [
    {
     "name": "stdout",
     "output_type": "stream",
     "text": [
      "                                                 name  \\\n",
      "59                          Our Baby Girl Memory Book   \n",
      "71  Wall Decor Removable Decal Sticker - Colorful ...   \n",
      "91  New Style Trailing Cherry Blossom Tree Decal R...   \n",
      "\n",
      "                                               review  rating  \\\n",
      "59  Absolutely love it and all of the Scripture in...       5   \n",
      "71  Would not purchase again or recommend. The dec...       2   \n",
      "91  Was so excited to get this product for my baby...       1   \n",
      "\n",
      "                                         review_clean  sentiment  \n",
      "59  Absolutely love it and all of the Scripture in...          1  \n",
      "71  Would not purchase again or recommend The deca...         -1  \n",
      "91  Was so excited to get this product for my baby...         -1  \n"
     ]
    }
   ],
   "source": [
    "sample_test_data = test_data[10:13]\n",
    "print(sample_test_data)"
   ]
  },
  {
   "cell_type": "code",
   "execution_count": 55,
   "metadata": {
    "collapsed": false
   },
   "outputs": [
    {
     "data": {
      "text/plain": [
       "'Absolutely love it and all of the Scripture in it.  I purchased the Baby Boy version for my grandson when he was born and my daughter-in-law was thrilled to receive the same book again.'"
      ]
     },
     "execution_count": 55,
     "metadata": {},
     "output_type": "execute_result"
    }
   ],
   "source": [
    "sample_test_data.iloc[0]['review']"
   ]
  },
  {
   "cell_type": "code",
   "execution_count": 57,
   "metadata": {
    "collapsed": false
   },
   "outputs": [
    {
     "data": {
      "text/plain": [
       "\"Was so excited to get this product for my baby girls bedroom!  When I got it the back is NOT STICKY at all!  Every time I walked into the bedroom I was picking up pieces off of the floor!  Very very frustrating!  Ended up having to super glue it to the wall...very disappointing.  I wouldn't waste the time or money on it.\""
      ]
     },
     "execution_count": 57,
     "metadata": {},
     "output_type": "execute_result"
    }
   ],
   "source": [
    "sample_test_data.iloc[2]['review']"
   ]
  },
  {
   "cell_type": "markdown",
   "metadata": {},
   "source": [
    "We will now make a class prediction for the sample_test_data. The sentiment_model should predict +1 if the sentiment is positive and -1 if the sentiment is negative. Recall from the lecture that the score (sometimes called margin) for the logistic regression model is defined as:\n",
    "\n",
    "scorei=w⊺h(xi)\n",
    "where h(xi) represents the features for data point i. We will write some code to obtain the scores. For each row, the score (or margin) is a number in the range (-inf, inf). Use a pre-built function in your tool to calculate the score of each data point in sample_test_data. In scikit-learn, you can call the decision_function() function.\n",
    "\n",
    "Hint: You'd probably need to convert sample_test_data into the sparse matrix format first.\n",
    "\n"
   ]
  },
  {
   "cell_type": "code",
   "execution_count": 59,
   "metadata": {
    "collapsed": false
   },
   "outputs": [
    {
     "name": "stdout",
     "output_type": "stream",
     "text": [
      "[  5.60184477  -3.12478355 -10.40573966]\n"
     ]
    }
   ],
   "source": [
    "sample_test_matrix = vectorizer.transform(sample_test_data['review_clean'])\n",
    "scores = sentiment_model.decision_function(sample_test_matrix)\n",
    "print(scores)"
   ]
  },
  {
   "cell_type": "code",
   "execution_count": 61,
   "metadata": {
    "collapsed": false
   },
   "outputs": [],
   "source": [
    "def score_to_sentiment(score):\n",
    "    if score > 0:\n",
    "        return 1\n",
    "    else:\n",
    "        return -1"
   ]
  },
  {
   "cell_type": "code",
   "execution_count": 63,
   "metadata": {
    "collapsed": false
   },
   "outputs": [
    {
     "data": {
      "text/plain": [
       "[1, -1, -1]"
      ]
     },
     "execution_count": 63,
     "metadata": {},
     "output_type": "execute_result"
    }
   ],
   "source": [
    "[score_to_sentiment(s) for s in scores]"
   ]
  },
  {
   "cell_type": "code",
   "execution_count": 64,
   "metadata": {
    "collapsed": true
   },
   "outputs": [],
   "source": [
    "predictions=sentiment_model.predict(sample_test_matrix)"
   ]
  },
  {
   "cell_type": "code",
   "execution_count": 65,
   "metadata": {
    "collapsed": false
   },
   "outputs": [
    {
     "data": {
      "text/plain": [
       "array([ 1, -1, -1])"
      ]
     },
     "execution_count": 65,
     "metadata": {},
     "output_type": "execute_result"
    }
   ],
   "source": [
    "predictions"
   ]
  },
  {
   "cell_type": "code",
   "execution_count": 66,
   "metadata": {
    "collapsed": true
   },
   "outputs": [],
   "source": [
    "import math\n",
    "def prob_prediction(score):\n",
    "    return (1/(1+math.exp(-score)))"
   ]
  },
  {
   "cell_type": "code",
   "execution_count": 67,
   "metadata": {
    "collapsed": false
   },
   "outputs": [
    {
     "data": {
      "text/plain": [
       "[0.9963225254257791, 0.042096455236751894, 3.0257395709178456e-05]"
      ]
     },
     "execution_count": 67,
     "metadata": {},
     "output_type": "execute_result"
    }
   ],
   "source": [
    "[prob_prediction(s) for s in scores]"
   ]
  },
  {
   "cell_type": "code",
   "execution_count": 68,
   "metadata": {
    "collapsed": false
   },
   "outputs": [
    {
     "data": {
      "text/plain": [
       "array([[  3.67747457e-03,   9.96322525e-01],\n",
       "       [  9.57903545e-01,   4.20964552e-02],\n",
       "       [  9.99969743e-01,   3.02573957e-05]])"
      ]
     },
     "execution_count": 68,
     "metadata": {},
     "output_type": "execute_result"
    }
   ],
   "source": [
    "sentiment_model.predict_proba(sample_test_matrix)"
   ]
  },
  {
   "cell_type": "code",
   "execution_count": 69,
   "metadata": {
    "collapsed": true
   },
   "outputs": [],
   "source": [
    "test_prob=sentiment_model.predict_proba(test_matrix)"
   ]
  },
  {
   "cell_type": "code",
   "execution_count": 82,
   "metadata": {
    "collapsed": false
   },
   "outputs": [
    {
     "name": "stderr",
     "output_type": "stream",
     "text": [
      "/Users/patelpri/anaconda3/lib/python3.5/site-packages/ipykernel/__main__.py:2: SettingWithCopyWarning: \n",
      "A value is trying to be set on a copy of a slice from a DataFrame.\n",
      "Try using .loc[row_indexer,col_indexer] = value instead\n",
      "\n",
      "See the caveats in the documentation: http://pandas.pydata.org/pandas-docs/stable/indexing.html#indexing-view-versus-copy\n",
      "  from ipykernel import kernelapp as app\n"
     ]
    }
   ],
   "source": [
    "p=pd.Series(test_prob[:,1])\n",
    "test_data[\"predicted_prob\"]=pd.Series(p)"
   ]
  },
  {
   "cell_type": "code",
   "execution_count": 91,
   "metadata": {
    "collapsed": false
   },
   "outputs": [
    {
     "data": {
      "text/html": [
       "<div>\n",
       "<table border=\"1\" class=\"dataframe\">\n",
       "  <thead>\n",
       "    <tr style=\"text-align: right;\">\n",
       "      <th></th>\n",
       "      <th>name</th>\n",
       "      <th>review</th>\n",
       "      <th>rating</th>\n",
       "      <th>review_clean</th>\n",
       "      <th>sentiment</th>\n",
       "      <th>predicted_prob</th>\n",
       "    </tr>\n",
       "  </thead>\n",
       "  <tbody>\n",
       "    <tr>\n",
       "      <th>26830</th>\n",
       "      <td>Leachco Wrap Strap Anywhere Safety Strap, Red</td>\n",
       "      <td>I have twin boys and find that very few shoppi...</td>\n",
       "      <td>4</td>\n",
       "      <td>I have twin boys and find that very few shoppi...</td>\n",
       "      <td>1</td>\n",
       "      <td>1.0</td>\n",
       "    </tr>\n",
       "    <tr>\n",
       "      <th>14482</th>\n",
       "      <td>Evenflo Whisper Connect Sensa Monitor</td>\n",
       "      <td>This unit worked well for the first few months...</td>\n",
       "      <td>1</td>\n",
       "      <td>This unit worked well for the first few months...</td>\n",
       "      <td>-1</td>\n",
       "      <td>1.0</td>\n",
       "    </tr>\n",
       "    <tr>\n",
       "      <th>18112</th>\n",
       "      <td>Bugaboo Frog Complete Stroller - Black</td>\n",
       "      <td>It was the best buy for our baby. I'm so happy...</td>\n",
       "      <td>5</td>\n",
       "      <td>It was the best buy for our baby Im so happy w...</td>\n",
       "      <td>1</td>\n",
       "      <td>1.0</td>\n",
       "    </tr>\n",
       "    <tr>\n",
       "      <th>15732</th>\n",
       "      <td>Fisher-Price Infant-To-Toddler Rocker, Blue/Green</td>\n",
       "      <td>I GOT THIS FOR MY NEW GRANDDAUGHTER ,SHE LOVE ...</td>\n",
       "      <td>5</td>\n",
       "      <td>I GOT THIS FOR MY NEW GRANDDAUGHTER SHE LOVE A...</td>\n",
       "      <td>1</td>\n",
       "      <td>1.0</td>\n",
       "    </tr>\n",
       "    <tr>\n",
       "      <th>30535</th>\n",
       "      <td>Munchkin Five Sea Squirts</td>\n",
       "      <td>very good! Recommended moms buy, your baby is ...</td>\n",
       "      <td>5</td>\n",
       "      <td>very good Recommended moms buy your baby is we...</td>\n",
       "      <td>1</td>\n",
       "      <td>1.0</td>\n",
       "    </tr>\n",
       "    <tr>\n",
       "      <th>31271</th>\n",
       "      <td>Prince Lionheart Wheely Bug, Ladybug, Large</td>\n",
       "      <td>Love this mouse! We bought the large for my 18...</td>\n",
       "      <td>5</td>\n",
       "      <td>Love this mouse We bought the large for my 18 ...</td>\n",
       "      <td>1</td>\n",
       "      <td>1.0</td>\n",
       "    </tr>\n",
       "    <tr>\n",
       "      <th>18009</th>\n",
       "      <td>Prince Lionheart Jumbo Toy Hammock</td>\n",
       "      <td>Super stretchy, easy to attach to wall, and so...</td>\n",
       "      <td>5</td>\n",
       "      <td>Super stretchy easy to attach to wall and solv...</td>\n",
       "      <td>1</td>\n",
       "      <td>1.0</td>\n",
       "    </tr>\n",
       "    <tr>\n",
       "      <th>20905</th>\n",
       "      <td>Boppy Newborn Lounger</td>\n",
       "      <td>This is perfect for a newborn.Pros: Soft fabri...</td>\n",
       "      <td>5</td>\n",
       "      <td>This is perfect for a newbornPros Soft fabric ...</td>\n",
       "      <td>1</td>\n",
       "      <td>1.0</td>\n",
       "    </tr>\n",
       "    <tr>\n",
       "      <th>12823</th>\n",
       "      <td>Baby Trend High Chair Palm Tree</td>\n",
       "      <td>We have had this chair for almost three years ...</td>\n",
       "      <td>5</td>\n",
       "      <td>We have had this chair for almost three years ...</td>\n",
       "      <td>1</td>\n",
       "      <td>1.0</td>\n",
       "    </tr>\n",
       "    <tr>\n",
       "      <th>32449</th>\n",
       "      <td>Aquatopia Deluxe Safety Bath Thermometer Alarm...</td>\n",
       "      <td>Works entirely like it's supposed to.  The onl...</td>\n",
       "      <td>4</td>\n",
       "      <td>Works entirely like its supposed to  The only ...</td>\n",
       "      <td>1</td>\n",
       "      <td>1.0</td>\n",
       "    </tr>\n",
       "    <tr>\n",
       "      <th>2360</th>\n",
       "      <td>Prince Lionheart Table Edge Guard with 4 Corne...</td>\n",
       "      <td>I used this to guard the natural tiles around ...</td>\n",
       "      <td>5</td>\n",
       "      <td>I used this to guard the natural tiles around ...</td>\n",
       "      <td>1</td>\n",
       "      <td>1.0</td>\n",
       "    </tr>\n",
       "    <tr>\n",
       "      <th>26556</th>\n",
       "      <td>Bumkins Waterproof Sleeved Bib - On-The-Go</td>\n",
       "      <td>Just as good as everybody says it is. Its just...</td>\n",
       "      <td>5</td>\n",
       "      <td>Just as good as everybody says it is Its just ...</td>\n",
       "      <td>1</td>\n",
       "      <td>1.0</td>\n",
       "    </tr>\n",
       "    <tr>\n",
       "      <th>5094</th>\n",
       "      <td>Baby Buddy Size-It Closet Organizers, Blue, 5 ...</td>\n",
       "      <td>I love this product. Great price and great for...</td>\n",
       "      <td>5</td>\n",
       "      <td>I love this product Great price and great for ...</td>\n",
       "      <td>1</td>\n",
       "      <td>1.0</td>\n",
       "    </tr>\n",
       "    <tr>\n",
       "      <th>18440</th>\n",
       "      <td>Fresh Baby So Easy Baby Food and Breast Milk T...</td>\n",
       "      <td>These trays are great for making and freezing ...</td>\n",
       "      <td>5</td>\n",
       "      <td>These trays are great for making and freezing ...</td>\n",
       "      <td>1</td>\n",
       "      <td>1.0</td>\n",
       "    </tr>\n",
       "    <tr>\n",
       "      <th>7501</th>\n",
       "      <td>The First Year's Infant To Toddler Tub with Sl...</td>\n",
       "      <td>My husband and I love this tub for our baby.  ...</td>\n",
       "      <td>5</td>\n",
       "      <td>My husband and I love this tub for our baby  T...</td>\n",
       "      <td>1</td>\n",
       "      <td>1.0</td>\n",
       "    </tr>\n",
       "    <tr>\n",
       "      <th>9204</th>\n",
       "      <td>HALO SleepSack 100% Cotton Wearable Blanket, S...</td>\n",
       "      <td>This cotton wearable blanket is perfect to kee...</td>\n",
       "      <td>5</td>\n",
       "      <td>This cotton wearable blanket is perfect to kee...</td>\n",
       "      <td>1</td>\n",
       "      <td>1.0</td>\n",
       "    </tr>\n",
       "    <tr>\n",
       "      <th>4576</th>\n",
       "      <td>BABYBJORN Original Carrier - City Black</td>\n",
       "      <td>I absolutely love this.  My daughter never wan...</td>\n",
       "      <td>5</td>\n",
       "      <td>I absolutely love this  My daughter never want...</td>\n",
       "      <td>1</td>\n",
       "      <td>1.0</td>\n",
       "    </tr>\n",
       "    <tr>\n",
       "      <th>32743</th>\n",
       "      <td>Bebesounds Digital Baby Scale</td>\n",
       "      <td>Just bought this. Every time you weigh the bab...</td>\n",
       "      <td>1</td>\n",
       "      <td>Just bought this Every time you weigh the baby...</td>\n",
       "      <td>-1</td>\n",
       "      <td>1.0</td>\n",
       "    </tr>\n",
       "    <tr>\n",
       "      <th>13668</th>\n",
       "      <td>MOBI MobiCam System</td>\n",
       "      <td>Because the camera eye moves only in one direc...</td>\n",
       "      <td>2</td>\n",
       "      <td>Because the camera eye moves only in one direc...</td>\n",
       "      <td>-1</td>\n",
       "      <td>1.0</td>\n",
       "    </tr>\n",
       "    <tr>\n",
       "      <th>21832</th>\n",
       "      <td>KidCo BabySteps Electric Food Mill - White</td>\n",
       "      <td>I use this all the time for making baby food. ...</td>\n",
       "      <td>5</td>\n",
       "      <td>I use this all the time for making baby food  ...</td>\n",
       "      <td>1</td>\n",
       "      <td>1.0</td>\n",
       "    </tr>\n",
       "  </tbody>\n",
       "</table>\n",
       "</div>"
      ],
      "text/plain": [
       "                                                    name  \\\n",
       "26830      Leachco Wrap Strap Anywhere Safety Strap, Red   \n",
       "14482              Evenflo Whisper Connect Sensa Monitor   \n",
       "18112             Bugaboo Frog Complete Stroller - Black   \n",
       "15732  Fisher-Price Infant-To-Toddler Rocker, Blue/Green   \n",
       "30535                          Munchkin Five Sea Squirts   \n",
       "31271        Prince Lionheart Wheely Bug, Ladybug, Large   \n",
       "18009                 Prince Lionheart Jumbo Toy Hammock   \n",
       "20905                              Boppy Newborn Lounger   \n",
       "12823                    Baby Trend High Chair Palm Tree   \n",
       "32449  Aquatopia Deluxe Safety Bath Thermometer Alarm...   \n",
       "2360   Prince Lionheart Table Edge Guard with 4 Corne...   \n",
       "26556         Bumkins Waterproof Sleeved Bib - On-The-Go   \n",
       "5094   Baby Buddy Size-It Closet Organizers, Blue, 5 ...   \n",
       "18440  Fresh Baby So Easy Baby Food and Breast Milk T...   \n",
       "7501   The First Year's Infant To Toddler Tub with Sl...   \n",
       "9204   HALO SleepSack 100% Cotton Wearable Blanket, S...   \n",
       "4576             BABYBJORN Original Carrier - City Black   \n",
       "32743                      Bebesounds Digital Baby Scale   \n",
       "13668                                MOBI MobiCam System   \n",
       "21832         KidCo BabySteps Electric Food Mill - White   \n",
       "\n",
       "                                                  review  rating  \\\n",
       "26830  I have twin boys and find that very few shoppi...       4   \n",
       "14482  This unit worked well for the first few months...       1   \n",
       "18112  It was the best buy for our baby. I'm so happy...       5   \n",
       "15732  I GOT THIS FOR MY NEW GRANDDAUGHTER ,SHE LOVE ...       5   \n",
       "30535  very good! Recommended moms buy, your baby is ...       5   \n",
       "31271  Love this mouse! We bought the large for my 18...       5   \n",
       "18009  Super stretchy, easy to attach to wall, and so...       5   \n",
       "20905  This is perfect for a newborn.Pros: Soft fabri...       5   \n",
       "12823  We have had this chair for almost three years ...       5   \n",
       "32449  Works entirely like it's supposed to.  The onl...       4   \n",
       "2360   I used this to guard the natural tiles around ...       5   \n",
       "26556  Just as good as everybody says it is. Its just...       5   \n",
       "5094   I love this product. Great price and great for...       5   \n",
       "18440  These trays are great for making and freezing ...       5   \n",
       "7501   My husband and I love this tub for our baby.  ...       5   \n",
       "9204   This cotton wearable blanket is perfect to kee...       5   \n",
       "4576   I absolutely love this.  My daughter never wan...       5   \n",
       "32743  Just bought this. Every time you weigh the bab...       1   \n",
       "13668  Because the camera eye moves only in one direc...       2   \n",
       "21832  I use this all the time for making baby food. ...       5   \n",
       "\n",
       "                                            review_clean  sentiment  \\\n",
       "26830  I have twin boys and find that very few shoppi...          1   \n",
       "14482  This unit worked well for the first few months...         -1   \n",
       "18112  It was the best buy for our baby Im so happy w...          1   \n",
       "15732  I GOT THIS FOR MY NEW GRANDDAUGHTER SHE LOVE A...          1   \n",
       "30535  very good Recommended moms buy your baby is we...          1   \n",
       "31271  Love this mouse We bought the large for my 18 ...          1   \n",
       "18009  Super stretchy easy to attach to wall and solv...          1   \n",
       "20905  This is perfect for a newbornPros Soft fabric ...          1   \n",
       "12823  We have had this chair for almost three years ...          1   \n",
       "32449  Works entirely like its supposed to  The only ...          1   \n",
       "2360   I used this to guard the natural tiles around ...          1   \n",
       "26556  Just as good as everybody says it is Its just ...          1   \n",
       "5094   I love this product Great price and great for ...          1   \n",
       "18440  These trays are great for making and freezing ...          1   \n",
       "7501   My husband and I love this tub for our baby  T...          1   \n",
       "9204   This cotton wearable blanket is perfect to kee...          1   \n",
       "4576   I absolutely love this  My daughter never want...          1   \n",
       "32743  Just bought this Every time you weigh the baby...         -1   \n",
       "13668  Because the camera eye moves only in one direc...         -1   \n",
       "21832  I use this all the time for making baby food  ...          1   \n",
       "\n",
       "       predicted_prob  \n",
       "26830             1.0  \n",
       "14482             1.0  \n",
       "18112             1.0  \n",
       "15732             1.0  \n",
       "30535             1.0  \n",
       "31271             1.0  \n",
       "18009             1.0  \n",
       "20905             1.0  \n",
       "12823             1.0  \n",
       "32449             1.0  \n",
       "2360              1.0  \n",
       "26556             1.0  \n",
       "5094              1.0  \n",
       "18440             1.0  \n",
       "7501              1.0  \n",
       "9204              1.0  \n",
       "4576              1.0  \n",
       "32743             1.0  \n",
       "13668             1.0  \n",
       "21832             1.0  "
      ]
     },
     "execution_count": 91,
     "metadata": {},
     "output_type": "execute_result"
    }
   ],
   "source": [
    "test_data.sort_values('predicted_prob', ascending=0).head(20)"
   ]
  },
  {
   "cell_type": "code",
   "execution_count": 92,
   "metadata": {
    "collapsed": false
   },
   "outputs": [
    {
     "data": {
      "text/html": [
       "<div>\n",
       "<table border=\"1\" class=\"dataframe\">\n",
       "  <thead>\n",
       "    <tr style=\"text-align: right;\">\n",
       "      <th></th>\n",
       "      <th>name</th>\n",
       "      <th>review</th>\n",
       "      <th>rating</th>\n",
       "      <th>review_clean</th>\n",
       "      <th>sentiment</th>\n",
       "      <th>predicted_prob</th>\n",
       "    </tr>\n",
       "  </thead>\n",
       "  <tbody>\n",
       "    <tr>\n",
       "      <th>9655</th>\n",
       "      <td>Baby Einstein Seek &amp;amp; Discover Activity Gym</td>\n",
       "      <td>I am a big fan of the \"Baby Einstein\" products...</td>\n",
       "      <td>2</td>\n",
       "      <td>I am a big fan of the Baby Einstein products a...</td>\n",
       "      <td>-1</td>\n",
       "      <td>3.337686e-11</td>\n",
       "    </tr>\n",
       "    <tr>\n",
       "      <th>31226</th>\n",
       "      <td>Sassy Teething Feeder and 16 Replacement Bags</td>\n",
       "      <td>I LOVE being able to feed my baby whole food. ...</td>\n",
       "      <td>5</td>\n",
       "      <td>I LOVE being able to feed my baby whole food  ...</td>\n",
       "      <td>1</td>\n",
       "      <td>6.740963e-10</td>\n",
       "    </tr>\n",
       "    <tr>\n",
       "      <th>7310</th>\n",
       "      <td>Avent Isis Manual Breast Pump</td>\n",
       "      <td>I got this pump when I was still pregnant, I d...</td>\n",
       "      <td>2</td>\n",
       "      <td>I got this pump when I was still pregnant I di...</td>\n",
       "      <td>-1</td>\n",
       "      <td>7.098455e-10</td>\n",
       "    </tr>\n",
       "    <tr>\n",
       "      <th>17222</th>\n",
       "      <td>Fisher-Price Ocean Wonders Aquarium Cradle Swing</td>\n",
       "      <td>We choose the Fisher Price swing because they ...</td>\n",
       "      <td>5</td>\n",
       "      <td>We choose the Fisher Price swing because they ...</td>\n",
       "      <td>1</td>\n",
       "      <td>3.018930e-09</td>\n",
       "    </tr>\n",
       "    <tr>\n",
       "      <th>17985</th>\n",
       "      <td>Prince Lionheart Jumbo Toy Hammock</td>\n",
       "      <td>muito boa para guardar os bichos de pelucia, p...</td>\n",
       "      <td>5</td>\n",
       "      <td>muito boa para guardar os bichos de pelucia po...</td>\n",
       "      <td>1</td>\n",
       "      <td>8.633105e-09</td>\n",
       "    </tr>\n",
       "    <tr>\n",
       "      <th>13752</th>\n",
       "      <td>Medela Pump &amp;amp; Save Breastmilk Bags - 50 pa...</td>\n",
       "      <td>Exactly what I needed and ordered and came sup...</td>\n",
       "      <td>5</td>\n",
       "      <td>Exactly what I needed and ordered and came sup...</td>\n",
       "      <td>1</td>\n",
       "      <td>2.597869e-08</td>\n",
       "    </tr>\n",
       "    <tr>\n",
       "      <th>13572</th>\n",
       "      <td>Mustela 2-In-1 Hair &amp;amp; Body Shampoo 6.76 ou...</td>\n",
       "      <td>Smells wonderful, nice and creamy so won't dry...</td>\n",
       "      <td>5</td>\n",
       "      <td>Smells wonderful nice and creamy so wont dry o...</td>\n",
       "      <td>1</td>\n",
       "      <td>4.763777e-08</td>\n",
       "    </tr>\n",
       "    <tr>\n",
       "      <th>3747</th>\n",
       "      <td>Playtex Diaper Genie - First Refill Included</td>\n",
       "      <td>I love the Diaper Genie!  I received this as a...</td>\n",
       "      <td>5</td>\n",
       "      <td>I love the Diaper Genie  I received this as a ...</td>\n",
       "      <td>1</td>\n",
       "      <td>1.069490e-07</td>\n",
       "    </tr>\n",
       "    <tr>\n",
       "      <th>394</th>\n",
       "      <td>Baby Trend Diaper Champ</td>\n",
       "      <td>Works great - no smells.  LOVE that it uses re...</td>\n",
       "      <td>5</td>\n",
       "      <td>Works great  no smells  LOVE that it uses regu...</td>\n",
       "      <td>1</td>\n",
       "      <td>1.247145e-07</td>\n",
       "    </tr>\n",
       "    <tr>\n",
       "      <th>30538</th>\n",
       "      <td>Munchkin 2 Pack Fresh Food Feeder, Colors May ...</td>\n",
       "      <td>grandson really loves the stuff you put in thi...</td>\n",
       "      <td>5</td>\n",
       "      <td>grandson really loves the stuff you put in thi...</td>\n",
       "      <td>1</td>\n",
       "      <td>1.336170e-07</td>\n",
       "    </tr>\n",
       "    <tr>\n",
       "      <th>23258</th>\n",
       "      <td>Graco Family Tree Play Yard</td>\n",
       "      <td>I love Graco products and this one has the sam...</td>\n",
       "      <td>4</td>\n",
       "      <td>I love Graco products and this one has the sam...</td>\n",
       "      <td>1</td>\n",
       "      <td>1.336200e-07</td>\n",
       "    </tr>\n",
       "    <tr>\n",
       "      <th>1890</th>\n",
       "      <td>The First Years Night and Day Bottle Warmer Sy...</td>\n",
       "      <td>works in seconds, and the light on the button ...</td>\n",
       "      <td>5</td>\n",
       "      <td>works in seconds and the light on the button m...</td>\n",
       "      <td>1</td>\n",
       "      <td>1.583174e-07</td>\n",
       "    </tr>\n",
       "    <tr>\n",
       "      <th>388</th>\n",
       "      <td>Baby Trend Diaper Champ</td>\n",
       "      <td>I chose the Diaper Champ because you are able ...</td>\n",
       "      <td>4</td>\n",
       "      <td>I chose the Diaper Champ because you are able ...</td>\n",
       "      <td>1</td>\n",
       "      <td>1.905152e-07</td>\n",
       "    </tr>\n",
       "    <tr>\n",
       "      <th>19148</th>\n",
       "      <td>Springmaid Baby Waterproof Crib Pad - Big Dot</td>\n",
       "      <td>This pad withstood the test of time. Keeps mat...</td>\n",
       "      <td>5</td>\n",
       "      <td>This pad withstood the test of time Keeps matt...</td>\n",
       "      <td>1</td>\n",
       "      <td>2.721018e-07</td>\n",
       "    </tr>\n",
       "    <tr>\n",
       "      <th>26325</th>\n",
       "      <td>Dreambaby Extra Tall Swing Close Gate with Ext...</td>\n",
       "      <td>This was a great purchase. With 8 month old tw...</td>\n",
       "      <td>4</td>\n",
       "      <td>This was a great purchase With 8 month old twi...</td>\n",
       "      <td>1</td>\n",
       "      <td>2.818407e-07</td>\n",
       "    </tr>\n",
       "    <tr>\n",
       "      <th>11279</th>\n",
       "      <td>Fisher-Price Booster Seat, Blue/Green/Gray</td>\n",
       "      <td>This booster is perfect. It cleans easily, 6 m...</td>\n",
       "      <td>5</td>\n",
       "      <td>This booster is perfect It cleans easily 6 mon...</td>\n",
       "      <td>1</td>\n",
       "      <td>4.603103e-07</td>\n",
       "    </tr>\n",
       "    <tr>\n",
       "      <th>24190</th>\n",
       "      <td>Bright Starts Musical Melodies Bouncer</td>\n",
       "      <td>Really? What do you expect for the price ... C...</td>\n",
       "      <td>1</td>\n",
       "      <td>Really What do you expect for the price  Cheap...</td>\n",
       "      <td>-1</td>\n",
       "      <td>6.186542e-07</td>\n",
       "    </tr>\n",
       "    <tr>\n",
       "      <th>11880</th>\n",
       "      <td>Safety 1st Secure Lock Bed Rail</td>\n",
       "      <td>This isnt THAT bad of a product, if it was the...</td>\n",
       "      <td>2</td>\n",
       "      <td>This isnt THAT bad of a product if it was the ...</td>\n",
       "      <td>-1</td>\n",
       "      <td>6.949258e-07</td>\n",
       "    </tr>\n",
       "    <tr>\n",
       "      <th>32159</th>\n",
       "      <td>Discovery 101 - Front Mounted Child Seat</td>\n",
       "      <td>This is a great buy that got my son enthralled...</td>\n",
       "      <td>5</td>\n",
       "      <td>This is a great buy that got my son enthralled...</td>\n",
       "      <td>1</td>\n",
       "      <td>7.654861e-07</td>\n",
       "    </tr>\n",
       "    <tr>\n",
       "      <th>4808</th>\n",
       "      <td>Philips AVENT BPA Free Non Spill Soft Spouts, ...</td>\n",
       "      <td>My son prefers these to any other sippy cup sp...</td>\n",
       "      <td>5</td>\n",
       "      <td>My son prefers these to any other sippy cup sp...</td>\n",
       "      <td>1</td>\n",
       "      <td>8.135572e-07</td>\n",
       "    </tr>\n",
       "  </tbody>\n",
       "</table>\n",
       "</div>"
      ],
      "text/plain": [
       "                                                    name  \\\n",
       "9655      Baby Einstein Seek &amp; Discover Activity Gym   \n",
       "31226      Sassy Teething Feeder and 16 Replacement Bags   \n",
       "7310                       Avent Isis Manual Breast Pump   \n",
       "17222   Fisher-Price Ocean Wonders Aquarium Cradle Swing   \n",
       "17985                 Prince Lionheart Jumbo Toy Hammock   \n",
       "13752  Medela Pump &amp; Save Breastmilk Bags - 50 pa...   \n",
       "13572  Mustela 2-In-1 Hair &amp; Body Shampoo 6.76 ou...   \n",
       "3747        Playtex Diaper Genie - First Refill Included   \n",
       "394                              Baby Trend Diaper Champ   \n",
       "30538  Munchkin 2 Pack Fresh Food Feeder, Colors May ...   \n",
       "23258                        Graco Family Tree Play Yard   \n",
       "1890   The First Years Night and Day Bottle Warmer Sy...   \n",
       "388                              Baby Trend Diaper Champ   \n",
       "19148      Springmaid Baby Waterproof Crib Pad - Big Dot   \n",
       "26325  Dreambaby Extra Tall Swing Close Gate with Ext...   \n",
       "11279         Fisher-Price Booster Seat, Blue/Green/Gray   \n",
       "24190             Bright Starts Musical Melodies Bouncer   \n",
       "11880                    Safety 1st Secure Lock Bed Rail   \n",
       "32159           Discovery 101 - Front Mounted Child Seat   \n",
       "4808   Philips AVENT BPA Free Non Spill Soft Spouts, ...   \n",
       "\n",
       "                                                  review  rating  \\\n",
       "9655   I am a big fan of the \"Baby Einstein\" products...       2   \n",
       "31226  I LOVE being able to feed my baby whole food. ...       5   \n",
       "7310   I got this pump when I was still pregnant, I d...       2   \n",
       "17222  We choose the Fisher Price swing because they ...       5   \n",
       "17985  muito boa para guardar os bichos de pelucia, p...       5   \n",
       "13752  Exactly what I needed and ordered and came sup...       5   \n",
       "13572  Smells wonderful, nice and creamy so won't dry...       5   \n",
       "3747   I love the Diaper Genie!  I received this as a...       5   \n",
       "394    Works great - no smells.  LOVE that it uses re...       5   \n",
       "30538  grandson really loves the stuff you put in thi...       5   \n",
       "23258  I love Graco products and this one has the sam...       4   \n",
       "1890   works in seconds, and the light on the button ...       5   \n",
       "388    I chose the Diaper Champ because you are able ...       4   \n",
       "19148  This pad withstood the test of time. Keeps mat...       5   \n",
       "26325  This was a great purchase. With 8 month old tw...       4   \n",
       "11279  This booster is perfect. It cleans easily, 6 m...       5   \n",
       "24190  Really? What do you expect for the price ... C...       1   \n",
       "11880  This isnt THAT bad of a product, if it was the...       2   \n",
       "32159  This is a great buy that got my son enthralled...       5   \n",
       "4808   My son prefers these to any other sippy cup sp...       5   \n",
       "\n",
       "                                            review_clean  sentiment  \\\n",
       "9655   I am a big fan of the Baby Einstein products a...         -1   \n",
       "31226  I LOVE being able to feed my baby whole food  ...          1   \n",
       "7310   I got this pump when I was still pregnant I di...         -1   \n",
       "17222  We choose the Fisher Price swing because they ...          1   \n",
       "17985  muito boa para guardar os bichos de pelucia po...          1   \n",
       "13752  Exactly what I needed and ordered and came sup...          1   \n",
       "13572  Smells wonderful nice and creamy so wont dry o...          1   \n",
       "3747   I love the Diaper Genie  I received this as a ...          1   \n",
       "394    Works great  no smells  LOVE that it uses regu...          1   \n",
       "30538  grandson really loves the stuff you put in thi...          1   \n",
       "23258  I love Graco products and this one has the sam...          1   \n",
       "1890   works in seconds and the light on the button m...          1   \n",
       "388    I chose the Diaper Champ because you are able ...          1   \n",
       "19148  This pad withstood the test of time Keeps matt...          1   \n",
       "26325  This was a great purchase With 8 month old twi...          1   \n",
       "11279  This booster is perfect It cleans easily 6 mon...          1   \n",
       "24190  Really What do you expect for the price  Cheap...         -1   \n",
       "11880  This isnt THAT bad of a product if it was the ...         -1   \n",
       "32159  This is a great buy that got my son enthralled...          1   \n",
       "4808   My son prefers these to any other sippy cup sp...          1   \n",
       "\n",
       "       predicted_prob  \n",
       "9655     3.337686e-11  \n",
       "31226    6.740963e-10  \n",
       "7310     7.098455e-10  \n",
       "17222    3.018930e-09  \n",
       "17985    8.633105e-09  \n",
       "13752    2.597869e-08  \n",
       "13572    4.763777e-08  \n",
       "3747     1.069490e-07  \n",
       "394      1.247145e-07  \n",
       "30538    1.336170e-07  \n",
       "23258    1.336200e-07  \n",
       "1890     1.583174e-07  \n",
       "388      1.905152e-07  \n",
       "19148    2.721018e-07  \n",
       "26325    2.818407e-07  \n",
       "11279    4.603103e-07  \n",
       "24190    6.186542e-07  \n",
       "11880    6.949258e-07  \n",
       "32159    7.654861e-07  \n",
       "4808     8.135572e-07  "
      ]
     },
     "execution_count": 92,
     "metadata": {},
     "output_type": "execute_result"
    }
   ],
   "source": [
    "test_data.sort_values('predicted_prob', ascending=1).head(20)"
   ]
  },
  {
   "cell_type": "code",
   "execution_count": 94,
   "metadata": {
    "collapsed": true
   },
   "outputs": [],
   "source": [
    "test_predictions=sentiment_model.predict(test_matrix)"
   ]
  },
  {
   "cell_type": "code",
   "execution_count": 95,
   "metadata": {
    "collapsed": false
   },
   "outputs": [
    {
     "data": {
      "text/plain": [
       "33336"
      ]
     },
     "execution_count": 95,
     "metadata": {},
     "output_type": "execute_result"
    }
   ],
   "source": [
    "len(test_predictions)"
   ]
  },
  {
   "cell_type": "code",
   "execution_count": 103,
   "metadata": {
    "collapsed": false
   },
   "outputs": [
    {
     "data": {
      "text/plain": [
       "31080"
      ]
     },
     "execution_count": 103,
     "metadata": {},
     "output_type": "execute_result"
    }
   ],
   "source": [
    "sum([predict==actual for predict, actual in zip(test_predictions,test_data['sentiment'])])"
   ]
  },
  {
   "cell_type": "code",
   "execution_count": 104,
   "metadata": {
    "collapsed": false
   },
   "outputs": [
    {
     "data": {
      "text/plain": [
       "0.9323254139668826"
      ]
     },
     "execution_count": 104,
     "metadata": {},
     "output_type": "execute_result"
    }
   ],
   "source": [
    "31080/33336."
   ]
  },
  {
   "cell_type": "code",
   "execution_count": 105,
   "metadata": {
    "collapsed": true
   },
   "outputs": [],
   "source": [
    "training_predictions=sentiment_model.predict(train_matrix)"
   ]
  },
  {
   "cell_type": "code",
   "execution_count": 106,
   "metadata": {
    "collapsed": false
   },
   "outputs": [
    {
     "data": {
      "text/plain": [
       "133416"
      ]
     },
     "execution_count": 106,
     "metadata": {},
     "output_type": "execute_result"
    }
   ],
   "source": [
    "len(training_predictions)"
   ]
  },
  {
   "cell_type": "code",
   "execution_count": 110,
   "metadata": {
    "collapsed": false
   },
   "outputs": [
    {
     "data": {
      "text/plain": [
       "129096"
      ]
     },
     "execution_count": 110,
     "metadata": {},
     "output_type": "execute_result"
    }
   ],
   "source": [
    "sum([predict==actual for predict, actual in zip(training_predictions,train_data['sentiment'])])"
   ]
  },
  {
   "cell_type": "code",
   "execution_count": 111,
   "metadata": {
    "collapsed": false
   },
   "outputs": [
    {
     "data": {
      "text/plain": [
       "0.967620075553157"
      ]
     },
     "execution_count": 111,
     "metadata": {},
     "output_type": "execute_result"
    }
   ],
   "source": [
    "129096/133416."
   ]
  },
  {
   "cell_type": "markdown",
   "metadata": {},
   "source": [
    "There were a lot of words in the model we trained above. We will now train a simpler logistic regression model using only a subet of words that occur in the reviews. For this assignment, we selected 20 words to work with. These are:"
   ]
  },
  {
   "cell_type": "code",
   "execution_count": 112,
   "metadata": {
    "collapsed": true
   },
   "outputs": [],
   "source": [
    "significant_words = ['love', 'great', 'easy', 'old', 'little', 'perfect', 'loves', \n",
    "      'well', 'able', 'car', 'broke', 'less', 'even', 'waste', 'disappointed', \n",
    "      'work', 'product', 'money', 'would', 'return']"
   ]
  },
  {
   "cell_type": "markdown",
   "metadata": {},
   "source": [
    "Compute a new set of word count vectors using only these words. The CountVectorizer class has a parameter that lets you limit the choice of words when building word count vectors:\n",
    "\n",
    "Compute word count vectors for the training and test data and obtain the sparse matrices train_matrix_word_subset and test_matrix_word_subset, respectively.\n"
   ]
  },
  {
   "cell_type": "code",
   "execution_count": 113,
   "metadata": {
    "collapsed": true
   },
   "outputs": [],
   "source": [
    "vectorizer_word_subset = CountVectorizer(vocabulary=significant_words) # limit to 20 words\n",
    "train_matrix_word_subset = vectorizer_word_subset.fit_transform(train_data['review_clean'])\n",
    "test_matrix_word_subset = vectorizer_word_subset.transform(test_data['review_clean'])"
   ]
  },
  {
   "cell_type": "code",
   "execution_count": 115,
   "metadata": {
    "collapsed": true
   },
   "outputs": [],
   "source": [
    "simple_model=linear_model.LogisticRegression()"
   ]
  },
  {
   "cell_type": "code",
   "execution_count": 116,
   "metadata": {
    "collapsed": false
   },
   "outputs": [
    {
     "data": {
      "text/plain": [
       "LogisticRegression(C=1.0, class_weight=None, dual=False, fit_intercept=True,\n",
       "          intercept_scaling=1, max_iter=100, multi_class='ovr', n_jobs=1,\n",
       "          penalty='l2', random_state=None, solver='liblinear', tol=0.0001,\n",
       "          verbose=0, warm_start=False)"
      ]
     },
     "execution_count": 116,
     "metadata": {},
     "output_type": "execute_result"
    }
   ],
   "source": [
    "simple_model.fit(train_matrix_word_subset,train_data['sentiment'])"
   ]
  },
  {
   "cell_type": "code",
   "execution_count": 132,
   "metadata": {
    "collapsed": false
   },
   "outputs": [
    {
     "data": {
      "text/html": [
       "<div>\n",
       "<table border=\"1\" class=\"dataframe\">\n",
       "  <thead>\n",
       "    <tr style=\"text-align: right;\">\n",
       "      <th></th>\n",
       "      <th>coefficient</th>\n",
       "      <th>word</th>\n",
       "      <th>coefficient2</th>\n",
       "      <th>word2</th>\n",
       "    </tr>\n",
       "  </thead>\n",
       "  <tbody>\n",
       "    <tr>\n",
       "      <th>0</th>\n",
       "      <td>1.363690</td>\n",
       "      <td>love</td>\n",
       "      <td>1.575339</td>\n",
       "      <td>love</td>\n",
       "    </tr>\n",
       "    <tr>\n",
       "      <th>1</th>\n",
       "      <td>0.944000</td>\n",
       "      <td>great</td>\n",
       "      <td>1.227473</td>\n",
       "      <td>great</td>\n",
       "    </tr>\n",
       "    <tr>\n",
       "      <th>2</th>\n",
       "      <td>1.192538</td>\n",
       "      <td>easy</td>\n",
       "      <td>1.357699</td>\n",
       "      <td>easy</td>\n",
       "    </tr>\n",
       "    <tr>\n",
       "      <th>3</th>\n",
       "      <td>0.085513</td>\n",
       "      <td>old</td>\n",
       "      <td>0.053986</td>\n",
       "      <td>old</td>\n",
       "    </tr>\n",
       "    <tr>\n",
       "      <th>4</th>\n",
       "      <td>0.520186</td>\n",
       "      <td>little</td>\n",
       "      <td>0.638772</td>\n",
       "      <td>little</td>\n",
       "    </tr>\n",
       "    <tr>\n",
       "      <th>5</th>\n",
       "      <td>1.509812</td>\n",
       "      <td>perfect</td>\n",
       "      <td>1.858013</td>\n",
       "      <td>perfect</td>\n",
       "    </tr>\n",
       "    <tr>\n",
       "      <th>6</th>\n",
       "      <td>1.673074</td>\n",
       "      <td>loves</td>\n",
       "      <td>1.516041</td>\n",
       "      <td>loves</td>\n",
       "    </tr>\n",
       "    <tr>\n",
       "      <th>7</th>\n",
       "      <td>0.503760</td>\n",
       "      <td>well</td>\n",
       "      <td>0.539714</td>\n",
       "      <td>well</td>\n",
       "    </tr>\n",
       "    <tr>\n",
       "      <th>8</th>\n",
       "      <td>0.190909</td>\n",
       "      <td>able</td>\n",
       "      <td>0.392523</td>\n",
       "      <td>able</td>\n",
       "    </tr>\n",
       "    <tr>\n",
       "      <th>9</th>\n",
       "      <td>0.058855</td>\n",
       "      <td>car</td>\n",
       "      <td>0.123899</td>\n",
       "      <td>car</td>\n",
       "    </tr>\n",
       "    <tr>\n",
       "      <th>10</th>\n",
       "      <td>-1.651576</td>\n",
       "      <td>broke</td>\n",
       "      <td>-1.389723</td>\n",
       "      <td>broke</td>\n",
       "    </tr>\n",
       "    <tr>\n",
       "      <th>11</th>\n",
       "      <td>-0.209563</td>\n",
       "      <td>less</td>\n",
       "      <td>-0.277036</td>\n",
       "      <td>less</td>\n",
       "    </tr>\n",
       "    <tr>\n",
       "      <th>12</th>\n",
       "      <td>-0.511380</td>\n",
       "      <td>even</td>\n",
       "      <td>-0.464967</td>\n",
       "      <td>even</td>\n",
       "    </tr>\n",
       "    <tr>\n",
       "      <th>13</th>\n",
       "      <td>-2.033699</td>\n",
       "      <td>waste</td>\n",
       "      <td>-1.992205</td>\n",
       "      <td>waste</td>\n",
       "    </tr>\n",
       "    <tr>\n",
       "      <th>14</th>\n",
       "      <td>-2.348298</td>\n",
       "      <td>disappointed</td>\n",
       "      <td>-2.192171</td>\n",
       "      <td>disappointed</td>\n",
       "    </tr>\n",
       "    <tr>\n",
       "      <th>15</th>\n",
       "      <td>-0.621169</td>\n",
       "      <td>work</td>\n",
       "      <td>-0.461024</td>\n",
       "      <td>work</td>\n",
       "    </tr>\n",
       "    <tr>\n",
       "      <th>16</th>\n",
       "      <td>-0.320556</td>\n",
       "      <td>product</td>\n",
       "      <td>-0.190585</td>\n",
       "      <td>product</td>\n",
       "    </tr>\n",
       "    <tr>\n",
       "      <th>17</th>\n",
       "      <td>-0.898031</td>\n",
       "      <td>money</td>\n",
       "      <td>-0.787286</td>\n",
       "      <td>money</td>\n",
       "    </tr>\n",
       "    <tr>\n",
       "      <th>18</th>\n",
       "      <td>-0.362167</td>\n",
       "      <td>would</td>\n",
       "      <td>-0.284871</td>\n",
       "      <td>would</td>\n",
       "    </tr>\n",
       "    <tr>\n",
       "      <th>19</th>\n",
       "      <td>-2.109331</td>\n",
       "      <td>return</td>\n",
       "      <td>-1.653901</td>\n",
       "      <td>return</td>\n",
       "    </tr>\n",
       "  </tbody>\n",
       "</table>\n",
       "</div>"
      ],
      "text/plain": [
       "    coefficient          word  coefficient2         word2\n",
       "0      1.363690          love      1.575339          love\n",
       "1      0.944000         great      1.227473         great\n",
       "2      1.192538          easy      1.357699          easy\n",
       "3      0.085513           old      0.053986           old\n",
       "4      0.520186        little      0.638772        little\n",
       "5      1.509812       perfect      1.858013       perfect\n",
       "6      1.673074         loves      1.516041         loves\n",
       "7      0.503760          well      0.539714          well\n",
       "8      0.190909          able      0.392523          able\n",
       "9      0.058855           car      0.123899           car\n",
       "10    -1.651576         broke     -1.389723         broke\n",
       "11    -0.209563          less     -0.277036          less\n",
       "12    -0.511380          even     -0.464967          even\n",
       "13    -2.033699         waste     -1.992205         waste\n",
       "14    -2.348298  disappointed     -2.192171  disappointed\n",
       "15    -0.621169          work     -0.461024          work\n",
       "16    -0.320556       product     -0.190585       product\n",
       "17    -0.898031         money     -0.787286         money\n",
       "18    -0.362167         would     -0.284871         would\n",
       "19    -2.109331        return     -1.653901        return"
      ]
     },
     "execution_count": 132,
     "metadata": {},
     "output_type": "execute_result"
    }
   ],
   "source": [
    "simple_model_coef_table = pd.DataFrame({'word':significant_words,\n",
    "                                         'coefficient':simple_model.coef_.flatten()})\n",
    "sentiment_model_coef_table = pd.DataFrame({'word2':vectorizer.get_feature_names(),\n",
    "                                            'coefficient2':sentiment_model.coef_.flatten()})\n",
    "pd.merge(simple_model_coef_table, sentiment_model_coef_table,how='inner',left_on='word',right_on='word2')"
   ]
  },
  {
   "cell_type": "code",
   "execution_count": 124,
   "metadata": {
    "collapsed": false
   },
   "outputs": [
    {
     "data": {
      "text/html": [
       "<div>\n",
       "<table border=\"1\" class=\"dataframe\">\n",
       "  <thead>\n",
       "    <tr style=\"text-align: right;\">\n",
       "      <th></th>\n",
       "      <th>coefficient</th>\n",
       "      <th>word</th>\n",
       "    </tr>\n",
       "  </thead>\n",
       "  <tbody>\n",
       "    <tr>\n",
       "      <th>14</th>\n",
       "      <td>-2.348298</td>\n",
       "      <td>disappointed</td>\n",
       "    </tr>\n",
       "    <tr>\n",
       "      <th>19</th>\n",
       "      <td>-2.109331</td>\n",
       "      <td>return</td>\n",
       "    </tr>\n",
       "    <tr>\n",
       "      <th>13</th>\n",
       "      <td>-2.033699</td>\n",
       "      <td>waste</td>\n",
       "    </tr>\n",
       "    <tr>\n",
       "      <th>10</th>\n",
       "      <td>-1.651576</td>\n",
       "      <td>broke</td>\n",
       "    </tr>\n",
       "    <tr>\n",
       "      <th>17</th>\n",
       "      <td>-0.898031</td>\n",
       "      <td>money</td>\n",
       "    </tr>\n",
       "    <tr>\n",
       "      <th>15</th>\n",
       "      <td>-0.621169</td>\n",
       "      <td>work</td>\n",
       "    </tr>\n",
       "    <tr>\n",
       "      <th>12</th>\n",
       "      <td>-0.511380</td>\n",
       "      <td>even</td>\n",
       "    </tr>\n",
       "    <tr>\n",
       "      <th>18</th>\n",
       "      <td>-0.362167</td>\n",
       "      <td>would</td>\n",
       "    </tr>\n",
       "    <tr>\n",
       "      <th>16</th>\n",
       "      <td>-0.320556</td>\n",
       "      <td>product</td>\n",
       "    </tr>\n",
       "    <tr>\n",
       "      <th>11</th>\n",
       "      <td>-0.209563</td>\n",
       "      <td>less</td>\n",
       "    </tr>\n",
       "    <tr>\n",
       "      <th>9</th>\n",
       "      <td>0.058855</td>\n",
       "      <td>car</td>\n",
       "    </tr>\n",
       "    <tr>\n",
       "      <th>3</th>\n",
       "      <td>0.085513</td>\n",
       "      <td>old</td>\n",
       "    </tr>\n",
       "    <tr>\n",
       "      <th>8</th>\n",
       "      <td>0.190909</td>\n",
       "      <td>able</td>\n",
       "    </tr>\n",
       "    <tr>\n",
       "      <th>7</th>\n",
       "      <td>0.503760</td>\n",
       "      <td>well</td>\n",
       "    </tr>\n",
       "    <tr>\n",
       "      <th>4</th>\n",
       "      <td>0.520186</td>\n",
       "      <td>little</td>\n",
       "    </tr>\n",
       "    <tr>\n",
       "      <th>1</th>\n",
       "      <td>0.944000</td>\n",
       "      <td>great</td>\n",
       "    </tr>\n",
       "    <tr>\n",
       "      <th>2</th>\n",
       "      <td>1.192538</td>\n",
       "      <td>easy</td>\n",
       "    </tr>\n",
       "    <tr>\n",
       "      <th>0</th>\n",
       "      <td>1.363690</td>\n",
       "      <td>love</td>\n",
       "    </tr>\n",
       "    <tr>\n",
       "      <th>5</th>\n",
       "      <td>1.509812</td>\n",
       "      <td>perfect</td>\n",
       "    </tr>\n",
       "    <tr>\n",
       "      <th>6</th>\n",
       "      <td>1.673074</td>\n",
       "      <td>loves</td>\n",
       "    </tr>\n",
       "  </tbody>\n",
       "</table>\n",
       "</div>"
      ],
      "text/plain": [
       "    coefficient          word\n",
       "14    -2.348298  disappointed\n",
       "19    -2.109331        return\n",
       "13    -2.033699         waste\n",
       "10    -1.651576         broke\n",
       "17    -0.898031         money\n",
       "15    -0.621169          work\n",
       "12    -0.511380          even\n",
       "18    -0.362167         would\n",
       "16    -0.320556       product\n",
       "11    -0.209563          less\n",
       "9      0.058855           car\n",
       "3      0.085513           old\n",
       "8      0.190909          able\n",
       "7      0.503760          well\n",
       "4      0.520186        little\n",
       "1      0.944000         great\n",
       "2      1.192538          easy\n",
       "0      1.363690          love\n",
       "5      1.509812       perfect\n",
       "6      1.673074         loves"
      ]
     },
     "execution_count": 124,
     "metadata": {},
     "output_type": "execute_result"
    }
   ],
   "source": [
    "simple_model_coef_table.sort_values('coefficient',ascending=1)"
   ]
  },
  {
   "cell_type": "code",
   "execution_count": 127,
   "metadata": {
    "collapsed": true
   },
   "outputs": [],
   "source": [
    "def accuracy(model, matrix, target):\n",
    "    predictions=model.predict(matrix)\n",
    "    total = len(target)\n",
    "    if len(predictions) == total:\n",
    "        return sum([predict==actual for predict, actual in zip(predictions,target)])/total\n",
    "    else:\n",
    "        return \"invalid error\"\n",
    "    "
   ]
  },
  {
   "cell_type": "code",
   "execution_count": 128,
   "metadata": {
    "collapsed": false
   },
   "outputs": [
    {
     "data": {
      "text/plain": [
       "0.93232541396688262"
      ]
     },
     "execution_count": 128,
     "metadata": {},
     "output_type": "execute_result"
    }
   ],
   "source": [
    "accuracy(sentiment_model,test_matrix,test_data['sentiment'])"
   ]
  },
  {
   "cell_type": "code",
   "execution_count": 129,
   "metadata": {
    "collapsed": false
   },
   "outputs": [
    {
     "data": {
      "text/plain": [
       "0.86936045116390692"
      ]
     },
     "execution_count": 129,
     "metadata": {},
     "output_type": "execute_result"
    }
   ],
   "source": [
    "accuracy(simple_model,test_matrix_word_subset,test_data['sentiment'])"
   ]
  },
  {
   "cell_type": "code",
   "execution_count": 133,
   "metadata": {
    "collapsed": false
   },
   "outputs": [
    {
     "data": {
      "text/plain": [
       "0.96762007555315699"
      ]
     },
     "execution_count": 133,
     "metadata": {},
     "output_type": "execute_result"
    }
   ],
   "source": [
    "accuracy(sentiment_model,train_matrix,train_data['sentiment'])"
   ]
  },
  {
   "cell_type": "code",
   "execution_count": 134,
   "metadata": {
    "collapsed": false
   },
   "outputs": [
    {
     "data": {
      "text/plain": [
       "0.8668225700065959"
      ]
     },
     "execution_count": 134,
     "metadata": {},
     "output_type": "execute_result"
    }
   ],
   "source": [
    "accuracy(simple_model,train_matrix_word_subset,train_data['sentiment'])"
   ]
  },
  {
   "cell_type": "code",
   "execution_count": null,
   "metadata": {
    "collapsed": true
   },
   "outputs": [],
   "source": []
  }
 ],
 "metadata": {
  "kernelspec": {
   "display_name": "Python [Root]",
   "language": "python",
   "name": "Python [Root]"
  },
  "language_info": {
   "codemirror_mode": {
    "name": "ipython",
    "version": 3
   },
   "file_extension": ".py",
   "mimetype": "text/x-python",
   "name": "python",
   "nbconvert_exporter": "python",
   "pygments_lexer": "ipython3",
   "version": "3.5.2"
  }
 },
 "nbformat": 4,
 "nbformat_minor": 0
}
