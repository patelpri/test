{
 "cells": [
  {
   "cell_type": "code",
   "execution_count": 1,
   "metadata": {
    "collapsed": true
   },
   "outputs": [],
   "source": [
    "import pandas as pd\n",
    "import numpy as np\n",
    "import matplotlib.pyplot as plt"
   ]
  },
  {
   "cell_type": "markdown",
   "metadata": {},
   "source": [
    "**Read Data**"
   ]
  },
  {
   "cell_type": "code",
   "execution_count": 2,
   "metadata": {
    "collapsed": false
   },
   "outputs": [],
   "source": [
    "dtype_dict = {'bathrooms':float, 'waterfront':int, 'sqft_above':int, 'sqft_living15':float, 'grade':int, 'yr_renovated':int, 'price':float, 'bedrooms':float, 'zipcode':str, 'long':float, 'sqft_lot15':float, 'sqft_living':float, 'floors':str, 'condition':int, 'lat':float, 'date':str, 'sqft_basement':int, 'yr_built':int, 'id':str, 'sqft_lot':int, 'view':int}\n",
    "df_house_data=pd.read_csv(\"kc_house_data.csv\", dtype=dtype_dict)\n",
    "df_house_train=pd.read_csv(\"kc_house_train_data.csv\", dtype=dtype_dict)\n",
    "df_house_test=pd.read_csv(\"kc_house_test_data.csv\", dtype=dtype_dict)"
   ]
  },
  {
   "cell_type": "code",
   "execution_count": 3,
   "metadata": {
    "collapsed": false
   },
   "outputs": [
    {
     "data": {
      "text/plain": [
       "(-47116.079072893248, 281.95883963034214)"
      ]
     },
     "execution_count": 3,
     "metadata": {},
     "output_type": "execute_result"
    }
   ],
   "source": [
    "from sklearn import linear_model\n",
    "\n",
    "def simple_regression_scikit(input_feature, output):\n",
    "    clf = linear_model.LinearRegression()\n",
    "    clf.fit(input_feature,output)\n",
    "    return clf\n",
    "    \n",
    "    \n",
    "model = simple_regression_scikit(df_house_train[['sqft_living']], df_house_train[['price']])\n",
    "\n",
    "(model.intercept_[0],model.coef_[0][0])\n"
   ]
  },
  {
   "cell_type": "code",
   "execution_count": 4,
   "metadata": {
    "collapsed": false
   },
   "outputs": [
    {
     "name": "stdout",
     "output_type": "stream",
     "text": [
      "1.20191835418e+15\n"
     ]
    }
   ],
   "source": [
    "predictions = model.predict(df_house_train[['sqft_living']])\n",
    "from sklearn.metrics import mean_squared_error\n",
    "MSE=mean_squared_error(df_house_train[['price']],predictions)\n",
    "#MSE = RSS/n\n",
    "RSS=MSE*len(predictions) \n",
    "print(RSS)"
   ]
  },
  {
   "cell_type": "code",
   "execution_count": 5,
   "metadata": {
    "collapsed": false
   },
   "outputs": [
    {
     "data": {
      "text/plain": [
       "RangeIndex(start=0, stop=17384, step=1)"
      ]
     },
     "execution_count": 5,
     "metadata": {},
     "output_type": "execute_result"
    }
   ],
   "source": [
    "df_house_train.index"
   ]
  },
  {
   "cell_type": "code",
   "execution_count": 6,
   "metadata": {
    "collapsed": false
   },
   "outputs": [
    {
     "data": {
      "text/plain": [
       "Index(['id', 'date', 'price', 'bedrooms', 'bathrooms', 'sqft_living',\n",
       "       'sqft_lot', 'floors', 'waterfront', 'view', 'condition', 'grade',\n",
       "       'sqft_above', 'sqft_basement', 'yr_built', 'yr_renovated', 'zipcode',\n",
       "       'lat', 'long', 'sqft_living15', 'sqft_lot15'],\n",
       "      dtype='object')"
      ]
     },
     "execution_count": 6,
     "metadata": {},
     "output_type": "execute_result"
    }
   ],
   "source": [
    "df_house_train.columns"
   ]
  },
  {
   "cell_type": "code",
   "execution_count": 7,
   "metadata": {
    "collapsed": false
   },
   "outputs": [
    {
     "data": {
      "text/html": [
       "<div>\n",
       "<table border=\"1\" class=\"dataframe\">\n",
       "  <thead>\n",
       "    <tr style=\"text-align: right;\">\n",
       "      <th></th>\n",
       "      <th>log_sqft_living</th>\n",
       "      <th>sqft_living</th>\n",
       "    </tr>\n",
       "  </thead>\n",
       "  <tbody>\n",
       "    <tr>\n",
       "      <th>0</th>\n",
       "      <td>7.073270</td>\n",
       "      <td>1180.0</td>\n",
       "    </tr>\n",
       "    <tr>\n",
       "      <th>1</th>\n",
       "      <td>7.851661</td>\n",
       "      <td>2570.0</td>\n",
       "    </tr>\n",
       "    <tr>\n",
       "      <th>2</th>\n",
       "      <td>6.646391</td>\n",
       "      <td>770.0</td>\n",
       "    </tr>\n",
       "    <tr>\n",
       "      <th>3</th>\n",
       "      <td>7.580700</td>\n",
       "      <td>1960.0</td>\n",
       "    </tr>\n",
       "    <tr>\n",
       "      <th>4</th>\n",
       "      <td>7.426549</td>\n",
       "      <td>1680.0</td>\n",
       "    </tr>\n",
       "  </tbody>\n",
       "</table>\n",
       "</div>"
      ],
      "text/plain": [
       "   log_sqft_living  sqft_living\n",
       "0         7.073270       1180.0\n",
       "1         7.851661       2570.0\n",
       "2         6.646391        770.0\n",
       "3         7.580700       1960.0\n",
       "4         7.426549       1680.0"
      ]
     },
     "execution_count": 7,
     "metadata": {},
     "output_type": "execute_result"
    }
   ],
   "source": [
    "df_house_train['bedrooms_squared']=df_house_train['bedrooms']*df_house_train['bedrooms']\n",
    "df_house_test['bedrooms_squared']=df_house_test['bedrooms']*df_house_test['bedrooms']\n",
    "df_house_train[['bedrooms_squared','bedrooms']].head()\n",
    "df_house_train['bed_bath_rooms']=df_house_train['bedrooms']*df_house_train['bathrooms']\n",
    "df_house_test['bed_bath_rooms']=df_house_test['bedrooms']*df_house_test['bathrooms']\n",
    "df_house_train['log_sqft_living']=np.log(df_house_train['sqft_living'])\n",
    "df_house_test['log_sqft_living']=np.log(df_house_test['sqft_living'])\n",
    "df_house_train['lat_plus_long']=df_house_train['lat']+df_house_train['long']\n",
    "df_house_test['lat_plus_long']=df_house_test['lat']+df_house_test['long']\n",
    "df_house_train[['log_sqft_living','sqft_living']].head()"
   ]
  },
  {
   "cell_type": "code",
   "execution_count": 8,
   "metadata": {
    "collapsed": true
   },
   "outputs": [],
   "source": [
    "model1 = linear_model.LinearRegression().fit(df_house_train[['sqft_living', 'bedrooms', 'bathrooms','lat','long']], df_house_train[['price']])\n",
    "model2 = linear_model.LinearRegression().fit(df_house_train[['sqft_living', 'bedrooms', 'bathrooms','lat','long','bed_bath_rooms']], df_house_train[['price']])\n",
    "model3 = linear_model.LinearRegression().fit(df_house_train[['sqft_living', 'bedrooms', 'bathrooms','lat','long','bed_bath_rooms','bedrooms_squared','log_sqft_living','lat_plus_long']], df_house_train[['price']])"
   ]
  },
  {
   "cell_type": "code",
   "execution_count": 9,
   "metadata": {
    "collapsed": false
   },
   "outputs": [
    {
     "data": {
      "text/plain": [
       "(array([[  3.12258646e+02,  -5.95865332e+04,   1.57067421e+04,\n",
       "           6.58619264e+05,  -3.09374351e+05]]),\n",
       " array([[  3.06610053e+02,  -1.13446368e+05,  -7.14613083e+04,\n",
       "           6.54844630e+05,  -2.94298969e+05,   2.55796520e+04]]),\n",
       " array([[  5.29422820e+02,   3.45142296e+04,   6.70607813e+04,\n",
       "           5.34085611e+05,  -4.06750711e+05,  -8.57050439e+03,\n",
       "          -6.78858667e+03,  -5.61831484e+05,   1.27334900e+05]]))"
      ]
     },
     "execution_count": 9,
     "metadata": {},
     "output_type": "execute_result"
    }
   ],
   "source": [
    "model1.coef_, model2.coef_, model3.coef_\n"
   ]
  },
  {
   "cell_type": "code",
   "execution_count": 10,
   "metadata": {
    "collapsed": false
   },
   "outputs": [],
   "source": [
    "predictions_model1 = model1.predict(df_house_train[['sqft_living', 'bedrooms', 'bathrooms','lat','long']])\n",
    "predictions_model2 = model2.predict(df_house_train[['sqft_living', 'bedrooms', 'bathrooms','lat','long','bed_bath_rooms']])\n",
    "predictions_model3 = model3.predict(df_house_train[['sqft_living', 'bedrooms', 'bathrooms','lat','long','bed_bath_rooms','bedrooms_squared','log_sqft_living','lat_plus_long']])\n",
    "\n",
    "predictions_model1_test = model1.predict(df_house_test[['sqft_living', 'bedrooms', 'bathrooms','lat','long']])\n",
    "predictions_model2_test = model2.predict(df_house_test[['sqft_living', 'bedrooms', 'bathrooms','lat','long','bed_bath_rooms']])\n",
    "predictions_model3_test = model3.predict(df_house_test[['sqft_living', 'bedrooms', 'bathrooms','lat','long','bed_bath_rooms','bedrooms_squared','log_sqft_living','lat_plus_long']])"
   ]
  },
  {
   "cell_type": "code",
   "execution_count": 11,
   "metadata": {
    "collapsed": false
   },
   "outputs": [
    {
     "name": "stdout",
     "output_type": "stream",
     "text": [
      "price    9.678800e+14\n",
      "dtype: float64 price    9.584196e+14\n",
      "dtype: float64 price    9.034365e+14\n",
      "dtype: float64\n",
      "price    2.255005e+14\n",
      "dtype: float64 price    2.233775e+14\n",
      "dtype: float64 price    2.592363e+14\n",
      "dtype: float64\n"
     ]
    }
   ],
   "source": [
    "RSS_model1 = ((df_house_train[['price']] - predictions_model1)**2).sum()\n",
    "RSS_model2 = ((df_house_train[['price']] - predictions_model2)**2).sum()\n",
    "RSS_model3 = ((df_house_train[['price']] - predictions_model3)**2).sum()\n",
    "\n",
    "RSS_test_model1 = ((df_house_test[['price']] - predictions_model1_test)**2).sum()\n",
    "RSS_test_model2 = ((df_house_test[['price']] - predictions_model2_test)**2).sum()\n",
    "RSS_test_model3 = ((df_house_test[['price']] - predictions_model3_test)**2).sum()\n",
    "\n",
    "print(RSS_model1, RSS_model2, RSS_model3)\n",
    "print(RSS_test_model1, RSS_test_model2, RSS_test_model3)"
   ]
  },
  {
   "cell_type": "markdown",
   "metadata": {
    "collapsed": true
   },
   "source": [
    "<h1>Gradient Descent Algo</h1>\n"
   ]
  },
  {
   "cell_type": "code",
   "execution_count": 12,
   "metadata": {
    "collapsed": false
   },
   "outputs": [
    {
     "data": {
      "text/plain": [
       "Index(['id', 'date', 'price', 'bedrooms', 'bathrooms', 'sqft_living',\n",
       "       'sqft_lot', 'floors', 'waterfront', 'view', 'condition', 'grade',\n",
       "       'sqft_above', 'sqft_basement', 'yr_built', 'yr_renovated', 'zipcode',\n",
       "       'lat', 'long', 'sqft_living15', 'sqft_lot15', 'bedrooms_squared',\n",
       "       'bed_bath_rooms', 'log_sqft_living', 'lat_plus_long'],\n",
       "      dtype='object')"
      ]
     },
     "execution_count": 12,
     "metadata": {},
     "output_type": "execute_result"
    }
   ],
   "source": [
    "df_house_train.columns"
   ]
  },
  {
   "cell_type": "code",
   "execution_count": 13,
   "metadata": {
    "collapsed": true
   },
   "outputs": [],
   "source": [
    "df_house_train['constant']=1"
   ]
  },
  {
   "cell_type": "code",
   "execution_count": 14,
   "metadata": {
    "collapsed": false
   },
   "outputs": [
    {
     "data": {
      "text/plain": [
       "0    1\n",
       "1    1\n",
       "2    1\n",
       "3    1\n",
       "4    1\n",
       "Name: constant, dtype: int64"
      ]
     },
     "execution_count": 14,
     "metadata": {},
     "output_type": "execute_result"
    }
   ],
   "source": [
    "df_house_train['constant'].head()"
   ]
  },
  {
   "cell_type": "code",
   "execution_count": 15,
   "metadata": {
    "collapsed": false
   },
   "outputs": [
    {
     "data": {
      "text/plain": [
       "array([  221900.,   538000.,   180000.,   604000.,   510000.,  1225000.,\n",
       "         257500.,   291850.,   229500.,   323000.])"
      ]
     },
     "execution_count": 15,
     "metadata": {},
     "output_type": "execute_result"
    }
   ],
   "source": [
    "df_house_train['price'].values[0:10]\n"
   ]
  },
  {
   "cell_type": "code",
   "execution_count": 16,
   "metadata": {
    "collapsed": true
   },
   "outputs": [],
   "source": [
    "def get_numpy_data(data_frame, features, output):\n",
    "    data_frame['constant']=1\n",
    "    features=['constant']+features\n",
    "    \n",
    "    features_np = data_frame[features].values\n",
    "    output_np = data_frame[[output]].values\n",
    "    \n",
    "    return features_np, output_np\n",
    "    "
   ]
  },
  {
   "cell_type": "code",
   "execution_count": 17,
   "metadata": {
    "collapsed": false
   },
   "outputs": [
    {
     "name": "stdout",
     "output_type": "stream",
     "text": [
      "(array([[  1.00000000e+00,   1.18000000e+03,   3.00000000e+00,\n",
      "          1.00000000e+00],\n",
      "       [  1.00000000e+00,   2.57000000e+03,   3.00000000e+00,\n",
      "          2.25000000e+00],\n",
      "       [  1.00000000e+00,   7.70000000e+02,   2.00000000e+00,\n",
      "          1.00000000e+00],\n",
      "       ..., \n",
      "       [  1.00000000e+00,   1.53000000e+03,   3.00000000e+00,\n",
      "          2.50000000e+00],\n",
      "       [  1.00000000e+00,   1.60000000e+03,   3.00000000e+00,\n",
      "          2.50000000e+00],\n",
      "       [  1.00000000e+00,   1.02000000e+03,   2.00000000e+00,\n",
      "          7.50000000e-01]]), array([[ 221900.],\n",
      "       [ 538000.],\n",
      "       [ 180000.],\n",
      "       ..., \n",
      "       [ 360000.],\n",
      "       [ 400000.],\n",
      "       [ 325000.]]))\n"
     ]
    }
   ],
   "source": [
    "print(get_numpy_data(df_house_train, ['sqft_living','bedrooms','bathrooms'], 'price'))"
   ]
  },
  {
   "cell_type": "markdown",
   "metadata": {},
   "source": [
    "If the features matrix (including a column of 1s for the constant) is stored as a 2D array (or matrix) and the regression weights are stored as a 1D array then the predicted output is just the dot product between the features matrix and the weights (with the weights on the right). Write a function ‘predict_output’ which accepts a 2D array ‘feature_matrix’ and a 1D array ‘weights’ and returns a 1D array ‘predictions’. e.g. in python:"
   ]
  },
  {
   "cell_type": "code",
   "execution_count": 18,
   "metadata": {
    "collapsed": true
   },
   "outputs": [],
   "source": [
    "def predict_outcome(feature_matrix, weights):\n",
    "    predictions=np.dot(feature_matrix,weights)\n",
    "    return(predictions)"
   ]
  },
  {
   "cell_type": "markdown",
   "metadata": {},
   "source": [
    " If we have a the values of a single input feature in an array ‘feature’ and the prediction ‘errors’ (predictions - output) then the derivative of the regression cost function with respect to the weight of ‘feature’ is just twice the dot product between ‘feature’ and ‘errors’. Write a function that accepts a ‘feature’ array and ‘error’ array and returns the ‘derivative’ (a single number). e.g. in python:"
   ]
  },
  {
   "cell_type": "code",
   "execution_count": 19,
   "metadata": {
    "collapsed": true
   },
   "outputs": [],
   "source": [
    "def feature_derivative(errors, feature):\n",
    "    derivative = 2*np.dot(feature,errors)\n",
    "    return(derivative)"
   ]
  },
  {
   "cell_type": "markdown",
   "metadata": {},
   "source": [
    "Now we will use our predict_output and feature_derivative to write a gradient descent function. Although we can compute the derivative for all the features simultaneously (the gradient) we will explicitly loop over the features individually for simplicity. Write a gradient descent function that does the following:\n",
    "\n",
    "Accepts a numpy feature_matrix 2D array, a 1D output array, an array of initial weights, a step size and a convergence tolerance.\n",
    "While not converged updates each feature weight by subtracting the step size times the derivative for that feature given the current weights\n",
    "At each step computes the magnitude/length of the gradient (square root of the sum of squared components)\n",
    "When the magnitude of the gradient is smaller than the input tolerance returns the final weight vector."
   ]
  },
  {
   "cell_type": "code",
   "execution_count": 63,
   "metadata": {
    "collapsed": true
   },
   "outputs": [],
   "source": [
    "def regression_gradient_descent(feature_matrix, output, initial_weights, step_size, tolerance):\n",
    "    converged = False\n",
    "    weights = np.array(initial_weights).reshape((2,1))\n",
    "    while not converged:\n",
    "        # compute the predictions based on feature_matrix and weights:\n",
    "        # compute the errors as predictions - output:\n",
    "        print(feature_matrix.ndim, weights.shape)\n",
    "        predictions = predict_outcome(feature_matrix, weights)\n",
    "        print(\"predictions\",predictions.shape, predictions[:10])\n",
    "        print(\"output\",output[:10])\n",
    "        errors = predictions - output\n",
    "        print(\"errors\",errors[:10])\n",
    "        gradient_sum_squares = 0 # initialize the gradient\n",
    "        # while not converged, update each weight individually:\n",
    "        for i in range(len(weights)):\n",
    "            # Recall that feature_matrix[:, i] is the feature column associated with weights[i]\n",
    "            # compute the derivative for weight[i]:\n",
    "            partial_derivative = feature_derivative(errors,feature_matrix[:,i])\n",
    "            print(\"before\", i, partial_derivative, weights[0],weights[1])\n",
    "            \n",
    "            \n",
    "            # add the squared derivative to the gradient magnitude\n",
    "            gradient_sum_squares += partial_derivative**2\n",
    "            # update the weight based on step size and derivative:\n",
    "            weights[i] = weights[i] - step_size*partial_derivative\n",
    "            print(\"after\",i, partial_derivative, weights[0],weights[1])\n",
    "        \n",
    "            \n",
    "        gradient_magnitude = np.sqrt(gradient_sum_squares)\n",
    "        if gradient_magnitude < tolerance:\n",
    "            converged = True\n",
    "    return(weights)\n"
   ]
  },
  {
   "cell_type": "markdown",
   "metadata": {},
   "source": [
    "Now we will run the regression_gradient_descent function on some actual data. In particular we will use the gradient descent to estimate the model from Week 1 using just an intercept and slope. Use the following parameters:\n",
    "\n",
    "features: ‘sqft_living’\n",
    "output: ‘price’\n",
    "initial weights: -47000, 1 (intercept, sqft_living respectively)\n",
    "step_size = 7e-12\n",
    "tolerance = 2.5e7\n",
    "e.g. in python with numpy and SFrames:"
   ]
  },
  {
   "cell_type": "code",
   "execution_count": 43,
   "metadata": {
    "collapsed": false
   },
   "outputs": [
    {
     "name": "stdout",
     "output_type": "stream",
     "text": [
      "(17384, 2) (17384, 1)\n",
      "(2,)\n",
      "[[  1.00000000e+00   1.18000000e+03]\n",
      " [  1.00000000e+00   2.57000000e+03]\n",
      " [  1.00000000e+00   7.70000000e+02]\n",
      " [  1.00000000e+00   1.96000000e+03]\n",
      " [  1.00000000e+00   1.68000000e+03]\n",
      " [  1.00000000e+00   5.42000000e+03]\n",
      " [  1.00000000e+00   1.71500000e+03]\n",
      " [  1.00000000e+00   1.06000000e+03]\n",
      " [  1.00000000e+00   1.78000000e+03]\n",
      " [  1.00000000e+00   1.89000000e+03]]\n"
     ]
    }
   ],
   "source": [
    "simple_features = ['sqft_living']\n",
    "my_output= 'price'\n",
    "(simple_feature_matrix, output) = get_numpy_data(df_house_train, simple_features, my_output)\n",
    "print(simple_feature_matrix.shape, output.shape)\n",
    "initial_weights = np.array([-47000., 1.])\n",
    "print(initial_weights.shape)\n",
    "step_size = 7e-12\n",
    "tolerance = 2.5e7\n",
    "print(simple_feature_matrix[:10])"
   ]
  },
  {
   "cell_type": "code",
   "execution_count": 64,
   "metadata": {
    "collapsed": false
   },
   "outputs": [
    {
     "name": "stdout",
     "output_type": "stream",
     "text": [
      "2 (2, 1)\n",
      "predictions (17384, 1) [[-45820.]\n",
      " [-44430.]\n",
      " [-46230.]\n",
      " [-45040.]\n",
      " [-45320.]\n",
      " [-41580.]\n",
      " [-45285.]\n",
      " [-45940.]\n",
      " [-45220.]\n",
      " [-45110.]]\n",
      "output [[  221900.]\n",
      " [  538000.]\n",
      " [  180000.]\n",
      " [  604000.]\n",
      " [  510000.]\n",
      " [ 1225000.]\n",
      " [  257500.]\n",
      " [  291850.]\n",
      " [  229500.]\n",
      " [  323000.]]\n",
      "errors [[ -267720.]\n",
      " [ -582430.]\n",
      " [ -226230.]\n",
      " [ -649040.]\n",
      " [ -555320.]\n",
      " [-1266580.]\n",
      " [ -302785.]\n",
      " [ -337790.]\n",
      " [ -274720.]\n",
      " [ -368110.]]\n",
      "before 0 [ -2.03144765e+10] [-47000.] [ 1.]\n",
      "after 0 [ -2.03144765e+10] [-46999.85779866] [ 1.]\n",
      "before 1 [ -5.05515267e+13] [-46999.85779866] [ 1.]\n",
      "after 1 [ -5.05515267e+13] [-46999.85779866] [ 354.86068692]\n",
      "2 (2, 1)\n",
      "predictions (17384, 1) [[  371735.75276992]\n",
      " [  864992.10759223]\n",
      " [  226242.87113168]\n",
      " [  648527.08856949]\n",
      " [  549166.09623118]\n",
      " [ 1876345.06532143]\n",
      " [  561586.22027347]\n",
      " [  329152.47033921]\n",
      " [  584652.16492343]\n",
      " [  623686.84048491]]\n",
      "output [[  221900.]\n",
      " [  538000.]\n",
      " [  180000.]\n",
      " [  604000.]\n",
      " [  510000.]\n",
      " [ 1225000.]\n",
      " [  257500.]\n",
      " [  291850.]\n",
      " [  229500.]\n",
      " [  323000.]]\n",
      "errors [[ 149835.75276992]\n",
      " [ 326992.10759223]\n",
      " [  46242.87113168]\n",
      " [  44527.08856949]\n",
      " [  39166.09623118]\n",
      " [ 651345.06532143]\n",
      " [ 304086.22027347]\n",
      " [  37302.47033921]\n",
      " [ 355152.16492343]\n",
      " [ 300686.84048491]]\n",
      "before 0 [  5.27619055e+09] [-46999.85779866] [ 354.86068692]\n",
      "after 0 [  5.27619055e+09] [-46999.894732] [ 354.86068692]\n",
      "before 1 [  1.31274500e+13] [-46999.894732] [ 354.86068692]\n",
      "after 1 [  1.31274500e+13] [-46999.894732] [ 262.96853716]\n",
      "2 (2, 1)\n",
      "predictions (17384, 1) [[  263302.97911749]\n",
      " [  628829.2457707 ]\n",
      " [  155485.87888165]\n",
      " [  468418.43810274]\n",
      " [  394787.24769778]\n",
      " [ 1378289.57667835]\n",
      " [  403991.1464984 ]\n",
      " [  231746.75465822]\n",
      " [  421084.10141384]\n",
      " [  450010.6405015 ]]\n",
      "output [[  221900.]\n",
      " [  538000.]\n",
      " [  180000.]\n",
      " [  604000.]\n",
      " [  510000.]\n",
      " [ 1225000.]\n",
      " [  257500.]\n",
      " [  291850.]\n",
      " [  229500.]\n",
      " [  323000.]]\n",
      "errors [[  41402.97911749]\n",
      " [  90829.2457707 ]\n",
      " [ -24514.12111835]\n",
      " [-135581.56189726]\n",
      " [-115212.75230222]\n",
      " [ 153289.57667835]\n",
      " [ 146491.1464984 ]\n",
      " [ -60103.24534178]\n",
      " [ 191584.10141384]\n",
      " [ 127010.6405015 ]]\n",
      "before 0 [ -1.36931005e+09] [-46999.894732] [ 262.96853716]\n",
      "after 0 [ -1.36931005e+09] [-46999.88514683] [ 262.96853716]\n",
      "before 1 [ -3.40899581e+12] [-46999.88514683] [ 262.96853716]\n",
      "after 1 [ -3.40899581e+12] [-46999.88514683] [ 286.83150782]\n",
      "2 (2, 1)\n",
      "predictions (17384, 1) [[  291461.29407865]\n",
      " [  690157.08994596]\n",
      " [  173860.37587319]\n",
      " [  515189.87017685]\n",
      " [  434877.04798776]\n",
      " [ 1507626.88722784]\n",
      " [  444916.15076139]\n",
      " [  257041.51314047]\n",
      " [  463560.19876958]\n",
      " [  495111.66462958]]\n",
      "output [[  221900.]\n",
      " [  538000.]\n",
      " [  180000.]\n",
      " [  604000.]\n",
      " [  510000.]\n",
      " [ 1225000.]\n",
      " [  257500.]\n",
      " [  291850.]\n",
      " [  229500.]\n",
      " [  323000.]]\n",
      "errors [[  69561.29407865]\n",
      " [ 152157.08994596]\n",
      " [  -6139.62412681]\n",
      " [ -88810.12982315]\n",
      " [ -75122.95201224]\n",
      " [ 282626.88722784]\n",
      " [ 187416.15076139]\n",
      " [ -34808.48685953]\n",
      " [ 234060.19876958]\n",
      " [ 172111.66462958]]\n",
      "before 0 [  3.56423719e+08] [-46999.88514683] [ 286.83150782]\n",
      "after 0 [  3.56423719e+08] [-46999.88764179] [ 286.83150782]\n",
      "before 1 [  8.85263509e+11] [-46999.88764179] [ 286.83150782]\n",
      "after 1 [  8.85263509e+11] [-46999.88764179] [ 280.63466326]\n",
      "2 (2, 1)\n",
      "predictions (17384, 1) [[  284149.0150032 ]\n",
      " [  674231.19693247]\n",
      " [  169088.80306723]\n",
      " [  503044.05234481]\n",
      " [  424466.34663244]\n",
      " [ 1474039.98721911]\n",
      " [  434288.55984648]\n",
      " [  250472.85541218]\n",
      " [  452529.81295828]\n",
      " [  483399.62591671]]\n",
      "output [[  221900.]\n",
      " [  538000.]\n",
      " [  180000.]\n",
      " [  604000.]\n",
      " [  510000.]\n",
      " [ 1225000.]\n",
      " [  257500.]\n",
      " [  291850.]\n",
      " [  229500.]\n",
      " [  323000.]]\n",
      "errors [[  62249.0150032 ]\n",
      " [ 136231.19693247]\n",
      " [ -10911.19693277]\n",
      " [-100955.94765519]\n",
      " [ -85533.65336756]\n",
      " [ 249039.98721911]\n",
      " [ 176788.55984648]\n",
      " [ -41377.14458782]\n",
      " [ 223029.81295828]\n",
      " [ 160399.62591671]]\n",
      "before 0 [-91722660.25080082] [-46999.88764179] [ 280.63466326]\n",
      "after 0 [-91722660.25080082] [-46999.88699974] [ 280.63466326]\n",
      "before 1 [ -2.29889247e+11] [-46999.88699974] [ 280.63466326]\n",
      "after 1 [ -2.29889247e+11] [-46999.88699974] [ 282.24388799]\n",
      "2 (2, 1)\n",
      "predictions (17384, 1) [[  286047.90082936]\n",
      " [  678366.90513651]\n",
      " [  170327.90675315]\n",
      " [  506198.13346215]\n",
      " [  427169.84482474]\n",
      " [ 1482761.98591018]\n",
      " [  437048.38090442]\n",
      " [  252178.63427047]\n",
      " [  455394.23362382]\n",
      " [  486441.0613028 ]]\n",
      "output [[  221900.]\n",
      " [  538000.]\n",
      " [  180000.]\n",
      " [  604000.]\n",
      " [  510000.]\n",
      " [ 1225000.]\n",
      " [  257500.]\n",
      " [  291850.]\n",
      " [  229500.]\n",
      " [  323000.]]\n",
      "errors [[  64147.90082936]\n",
      " [ 140366.90513651]\n",
      " [  -9672.09324685]\n",
      " [ -97801.86653785]\n",
      " [ -82830.15517526]\n",
      " [ 257761.98591018]\n",
      " [ 179548.38090442]\n",
      " [ -39671.36572953]\n",
      " [ 225894.23362382]\n",
      " [ 163441.0613028 ]]\n",
      "before 0 [ 24654026.16069233] [-46999.88699974] [ 282.24388799]\n",
      "after 0 [ 24654026.16069233] [-46999.88717231] [ 282.24388799]\n",
      "before 1 [  5.96986832e+10] [-46999.88717231] [ 282.24388799]\n",
      "after 1 [  5.96986832e+10] [-46999.88717231] [ 281.82599721]\n",
      "2 (2, 1)\n",
      "predictions (17384, 1) [[  285554.7895337 ]\n",
      " [  677292.9256535 ]\n",
      " [  170006.13067822]\n",
      " [  505379.06735632]\n",
      " [  426467.78813795]\n",
      " [ 1480497.0176977 ]\n",
      " [  436331.69804024]\n",
      " [  251735.66986868]\n",
      " [  454650.3878588 ]\n",
      " [  485651.24755173]]\n",
      "output [[  221900.]\n",
      " [  538000.]\n",
      " [  180000.]\n",
      " [  604000.]\n",
      " [  510000.]\n",
      " [ 1225000.]\n",
      " [  257500.]\n",
      " [  291850.]\n",
      " [  229500.]\n",
      " [  323000.]]\n",
      "errors [[  63654.7895337 ]\n",
      " [ 139292.9256535 ]\n",
      " [  -9993.86932178]\n",
      " [ -98620.93264368]\n",
      " [ -83532.21186205]\n",
      " [ 255497.0176977 ]\n",
      " [ 178831.69804024]\n",
      " [ -40114.33013132]\n",
      " [ 225150.3878588 ]\n",
      " [ 162651.24755173]]\n",
      "before 0 [-5567200.16880628] [-46999.88717231] [ 281.82599721]\n",
      "after 0 [-5567200.16880628] [-46999.88713334] [ 281.82599721]\n",
      "before 1 [ -1.55028254e+10] [-46999.88713334] [ 281.82599721]\n",
      "after 1 [ -1.55028254e+10] [-46999.88713334] [ 281.93451699]\n",
      "2 (2, 1)\n",
      "predictions (17384, 1) [[  285682.84291069]\n",
      " [  677571.82152188]\n",
      " [  170089.69094624]\n",
      " [  505591.76616014]\n",
      " [  426650.10140392]\n",
      " [ 1481085.19493332]\n",
      " [  436517.80949845]\n",
      " [  251850.70087231]\n",
      " [  454843.55310257]\n",
      " [  485856.34997108]]\n",
      "output [[  221900.]\n",
      " [  538000.]\n",
      " [  180000.]\n",
      " [  604000.]\n",
      " [  510000.]\n",
      " [ 1225000.]\n",
      " [  257500.]\n",
      " [  291850.]\n",
      " [  229500.]\n",
      " [  323000.]]\n",
      "errors [[  63782.84291069]\n",
      " [ 139571.82152188]\n",
      " [  -9910.30905376]\n",
      " [ -98408.23383986]\n",
      " [ -83349.89859608]\n",
      " [ 256085.19493332]\n",
      " [ 179017.80949845]\n",
      " [ -39999.29912769]\n",
      " [ 225343.55310257]\n",
      " [ 162856.34997108]]\n",
      "before 0 [ 2280785.06029914] [-46999.88713334] [ 281.93451699]\n",
      "after 0 [ 2280785.06029914] [-46999.88714931] [ 281.93451699]\n",
      "before 1 [  4.02584376e+09] [-46999.88714931] [ 281.93451699]\n",
      "after 1 [  4.02584376e+09] [-46999.88714931] [ 281.90633608]\n",
      "2 (2, 1)\n",
      "predictions (17384, 1) [[  285649.5894253 ]\n",
      " [  677499.39657674]\n",
      " [  170067.99163243]\n",
      " [  505536.53156783]\n",
      " [  426602.75746539]\n",
      " [ 1480932.45440524]\n",
      " [  436469.47922819]\n",
      " [  251820.82909568]\n",
      " [  454793.3910734 ]\n",
      " [  485803.08804222]]\n",
      "output [[  221900.]\n",
      " [  538000.]\n",
      " [  180000.]\n",
      " [  604000.]\n",
      " [  510000.]\n",
      " [ 1225000.]\n",
      " [  257500.]\n",
      " [  291850.]\n",
      " [  229500.]\n",
      " [  323000.]]\n",
      "errors [[  63749.5894253 ]\n",
      " [ 139499.39657674]\n",
      " [  -9932.00836757]\n",
      " [ -98463.46843217]\n",
      " [ -83397.24253461]\n",
      " [ 255932.45440524]\n",
      " [ 178969.47922819]\n",
      " [ -40029.17090432]\n",
      " [ 225293.3910734 ]\n",
      " [ 162803.08804222]]\n",
      "before 0 [ 242784.59153927] [-46999.88714931] [ 281.90633608]\n",
      "after 0 [ 242784.59153927] [-46999.88715101] [ 281.90633608]\n",
      "before 1 [ -1.04544972e+09] [-46999.88715101] [ 281.90633608]\n",
      "after 1 [ -1.04544972e+09] [-46999.88715101] [ 281.91365423]\n",
      "2 (2, 1)\n",
      "predictions (17384, 1) [[  285658.22483829]\n",
      " [  677518.20421551]\n",
      " [  170073.62660472]\n",
      " [  505550.8751363 ]\n",
      " [  426615.0519524 ]\n",
      " [ 1480972.11876593]\n",
      " [  436482.02985038]\n",
      " [  251828.5863309 ]\n",
      " [  454806.41737522]\n",
      " [  485816.91934032]]\n",
      "output [[  221900.]\n",
      " [  538000.]\n",
      " [  180000.]\n",
      " [  604000.]\n",
      " [  510000.]\n",
      " [ 1225000.]\n",
      " [  257500.]\n",
      " [  291850.]\n",
      " [  229500.]\n",
      " [  323000.]]\n",
      "errors [[  63758.22483829]\n",
      " [ 139518.20421551]\n",
      " [  -9926.37339528]\n",
      " [ -98449.1248637 ]\n",
      " [ -83384.9480476 ]\n",
      " [ 255972.11876593]\n",
      " [ 178982.02985038]\n",
      " [ -40021.4136691 ]\n",
      " [ 225306.41737522]\n",
      " [ 162816.91934032]]\n",
      "before 0 [ 772021.77276769] [-46999.88715101] [ 281.91365423]\n",
      "after 0 [ 772021.77276769] [-46999.88715641] [ 281.91365423]\n",
      "before 1 [  2.71486794e+08] [-46999.88715641] [ 281.91365423]\n",
      "after 1 [  2.71486794e+08] [-46999.88715641] [ 281.91175382]\n",
      "2 (2, 1)\n",
      "predictions (17384, 1) [[  285655.98235196]\n",
      " [  677513.32016267]\n",
      " [  170072.16328549]\n",
      " [  505547.15033207]\n",
      " [  426611.85926229]\n",
      " [ 1480961.81855155]\n",
      " [  436478.77064601]\n",
      " [  251826.57189348]\n",
      " [  454803.03464436]\n",
      " [  485813.32756463]]\n",
      "output [[  221900.]\n",
      " [  538000.]\n",
      " [  180000.]\n",
      " [  604000.]\n",
      " [  510000.]\n",
      " [ 1225000.]\n",
      " [  257500.]\n",
      " [  291850.]\n",
      " [  229500.]\n",
      " [  323000.]]\n",
      "errors [[  63755.98235196]\n",
      " [ 139513.32016267]\n",
      " [  -9927.83671451]\n",
      " [ -98452.84966793]\n",
      " [ -83388.14073771]\n",
      " [ 255961.81855155]\n",
      " [ 178978.77064601]\n",
      " [ -40023.42810652]\n",
      " [ 225303.03464436]\n",
      " [ 162813.32756463]]\n",
      "before 0 [ 634587.02537272] [-46999.88715641] [ 281.91175382]\n",
      "after 0 [ 634587.02537272] [-46999.88716085] [ 281.91175382]\n",
      "before 1 [-70501258.91940308] [-46999.88716085] [ 281.91175382]\n",
      "after 1 [-70501258.91940308] [-46999.88716085] [ 281.91224733]\n",
      "2 (2, 1)\n",
      "predictions (17384, 1) [[  285656.56468792]\n",
      " [  677514.58847588]\n",
      " [  170072.54328284]\n",
      " [  505548.1176049 ]\n",
      " [  426612.68835265]\n",
      " [ 1480964.49336487]\n",
      " [  436479.61700918]\n",
      " [  251827.09500838]\n",
      " [  454803.9130856 ]\n",
      " [  485814.26029184]]\n",
      "output [[  221900.]\n",
      " [  538000.]\n",
      " [  180000.]\n",
      " [  604000.]\n",
      " [  510000.]\n",
      " [ 1225000.]\n",
      " [  257500.]\n",
      " [  291850.]\n",
      " [  229500.]\n",
      " [  323000.]]\n",
      "errors [[  63756.56468792]\n",
      " [ 139514.58847588]\n",
      " [  -9927.45671716]\n",
      " [ -98451.8823951 ]\n",
      " [ -83387.31164735]\n",
      " [ 255964.49336487]\n",
      " [ 178979.61700918]\n",
      " [ -40022.90499162]\n",
      " [ 225303.9130856 ]\n",
      " [ 162814.26029184]]\n",
      "before 0 [ 670276.67120297] [-46999.88716085] [ 281.91224733]\n",
      "after 0 [ 670276.67120297] [-46999.88716555] [ 281.91224733]\n",
      "before 1 [ 18307751.41471863] [-46999.88716555] [ 281.91224733]\n",
      "after 1 [ 18307751.41471863] [-46999.88716555] [ 281.91211918]\n"
     ]
    }
   ],
   "source": [
    "simple_weights = regression_gradient_descent(simple_feature_matrix, output,initial_weights, step_size,tolerance)"
   ]
  },
  {
   "cell_type": "code",
   "execution_count": 65,
   "metadata": {
    "collapsed": false
   },
   "outputs": [
    {
     "name": "stdout",
     "output_type": "stream",
     "text": [
      "[[-46999.88716555]\n",
      " [   281.91211918]]\n"
     ]
    }
   ],
   "source": [
    "print(simple_weights)"
   ]
  },
  {
   "cell_type": "code",
   "execution_count": null,
   "metadata": {
    "collapsed": true
   },
   "outputs": [],
   "source": []
  }
 ],
 "metadata": {
  "anaconda-cloud": {},
  "kernelspec": {
   "display_name": "Python [Root]",
   "language": "python",
   "name": "Python [Root]"
  },
  "language_info": {
   "codemirror_mode": {
    "name": "ipython",
    "version": 3
   },
   "file_extension": ".py",
   "mimetype": "text/x-python",
   "name": "python",
   "nbconvert_exporter": "python",
   "pygments_lexer": "ipython3",
   "version": "3.5.2"
  }
 },
 "nbformat": 4,
 "nbformat_minor": 0
}
