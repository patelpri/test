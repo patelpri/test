{
 "cells": [
  {
   "cell_type": "code",
   "execution_count": 4,
   "metadata": {
    "collapsed": true
   },
   "outputs": [],
   "source": [
    "import pandas as pd\n",
    "import numpy as np\n",
    "import matplotlib.pyplot as plt"
   ]
  },
  {
   "cell_type": "markdown",
   "metadata": {},
   "source": [
    "**Read Data**"
   ]
  },
  {
   "cell_type": "code",
   "execution_count": 5,
   "metadata": {
    "collapsed": false
   },
   "outputs": [],
   "source": [
    "dtype_dict = {'bathrooms':float, 'waterfront':int, 'sqft_above':int, 'sqft_living15':float, 'grade':int, 'yr_renovated':int, 'price':float, 'bedrooms':float, 'zipcode':str, 'long':float, 'sqft_lot15':float, 'sqft_living':float, 'floors':str, 'condition':int, 'lat':float, 'date':str, 'sqft_basement':int, 'yr_built':int, 'id':str, 'sqft_lot':int, 'view':int}\n",
    "df_house_data=pd.read_csv(\"kc_house_data.csv\", dtype=dtype_dict)\n",
    "df_house_train=pd.read_csv(\"kc_house_train_data.csv\", dtype=dtype_dict)\n",
    "df_house_test=pd.read_csv(\"kc_house_test_data.csv\", dtype=dtype_dict)"
   ]
  },
  {
   "cell_type": "code",
   "execution_count": 6,
   "metadata": {
    "collapsed": false
   },
   "outputs": [
    {
     "data": {
      "text/plain": [
       "(-47116.079072893248, 281.95883963034214)"
      ]
     },
     "execution_count": 6,
     "metadata": {},
     "output_type": "execute_result"
    }
   ],
   "source": [
    "from sklearn import linear_model\n",
    "\n",
    "def simple_regression_scikit(input_feature, output):\n",
    "    clf = linear_model.LinearRegression()\n",
    "    clf.fit(input_feature,output)\n",
    "    return clf\n",
    "    \n",
    "    \n",
    "model = simple_regression_scikit(df_house_train[['sqft_living']], df_house_train[['price']])\n",
    "\n",
    "(model.intercept_[0],model.coef_[0][0])\n"
   ]
  },
  {
   "cell_type": "code",
   "execution_count": 7,
   "metadata": {
    "collapsed": false
   },
   "outputs": [
    {
     "name": "stdout",
     "output_type": "stream",
     "text": [
      "1.20191835418e+15\n"
     ]
    }
   ],
   "source": [
    "predictions = model.predict(df_house_train[['sqft_living']])\n",
    "from sklearn.metrics import mean_squared_error\n",
    "MSE=mean_squared_error(df_house_train[['price']],predictions)\n",
    "#MSE = RSS/n\n",
    "RSS=MSE*len(predictions) \n",
    "print(RSS)"
   ]
  },
  {
   "cell_type": "code",
   "execution_count": 8,
   "metadata": {
    "collapsed": false
   },
   "outputs": [
    {
     "data": {
      "text/plain": [
       "RangeIndex(start=0, stop=17384, step=1)"
      ]
     },
     "execution_count": 8,
     "metadata": {},
     "output_type": "execute_result"
    }
   ],
   "source": [
    "df_house_train.index"
   ]
  },
  {
   "cell_type": "code",
   "execution_count": 9,
   "metadata": {
    "collapsed": false
   },
   "outputs": [
    {
     "data": {
      "text/plain": [
       "Index(['id', 'date', 'price', 'bedrooms', 'bathrooms', 'sqft_living',\n",
       "       'sqft_lot', 'floors', 'waterfront', 'view', 'condition', 'grade',\n",
       "       'sqft_above', 'sqft_basement', 'yr_built', 'yr_renovated', 'zipcode',\n",
       "       'lat', 'long', 'sqft_living15', 'sqft_lot15'],\n",
       "      dtype='object')"
      ]
     },
     "execution_count": 9,
     "metadata": {},
     "output_type": "execute_result"
    }
   ],
   "source": [
    "df_house_train.columns"
   ]
  },
  {
   "cell_type": "code",
   "execution_count": 10,
   "metadata": {
    "collapsed": false
   },
   "outputs": [
    {
     "data": {
      "text/html": [
       "<div>\n",
       "<table border=\"1\" class=\"dataframe\">\n",
       "  <thead>\n",
       "    <tr style=\"text-align: right;\">\n",
       "      <th></th>\n",
       "      <th>log_sqft_living</th>\n",
       "      <th>sqft_living</th>\n",
       "    </tr>\n",
       "  </thead>\n",
       "  <tbody>\n",
       "    <tr>\n",
       "      <th>0</th>\n",
       "      <td>7.073270</td>\n",
       "      <td>1180.0</td>\n",
       "    </tr>\n",
       "    <tr>\n",
       "      <th>1</th>\n",
       "      <td>7.851661</td>\n",
       "      <td>2570.0</td>\n",
       "    </tr>\n",
       "    <tr>\n",
       "      <th>2</th>\n",
       "      <td>6.646391</td>\n",
       "      <td>770.0</td>\n",
       "    </tr>\n",
       "    <tr>\n",
       "      <th>3</th>\n",
       "      <td>7.580700</td>\n",
       "      <td>1960.0</td>\n",
       "    </tr>\n",
       "    <tr>\n",
       "      <th>4</th>\n",
       "      <td>7.426549</td>\n",
       "      <td>1680.0</td>\n",
       "    </tr>\n",
       "  </tbody>\n",
       "</table>\n",
       "</div>"
      ],
      "text/plain": [
       "   log_sqft_living  sqft_living\n",
       "0         7.073270       1180.0\n",
       "1         7.851661       2570.0\n",
       "2         6.646391        770.0\n",
       "3         7.580700       1960.0\n",
       "4         7.426549       1680.0"
      ]
     },
     "execution_count": 10,
     "metadata": {},
     "output_type": "execute_result"
    }
   ],
   "source": [
    "df_house_train['bedrooms_squared']=df_house_train['bedrooms']*df_house_train['bedrooms']\n",
    "df_house_test['bedrooms_squared']=df_house_test['bedrooms']*df_house_test['bedrooms']\n",
    "df_house_train[['bedrooms_squared','bedrooms']].head()\n",
    "df_house_train['bed_bath_rooms']=df_house_train['bedrooms']*df_house_train['bathrooms']\n",
    "df_house_test['bed_bath_rooms']=df_house_test['bedrooms']*df_house_test['bathrooms']\n",
    "df_house_train['log_sqft_living']=np.log(df_house_train['sqft_living'])\n",
    "df_house_test['log_sqft_living']=np.log(df_house_test['sqft_living'])\n",
    "df_house_train['lat_plus_long']=df_house_train['lat']+df_house_train['long']\n",
    "df_house_test['lat_plus_long']=df_house_test['lat']+df_house_test['long']\n",
    "df_house_train[['log_sqft_living','sqft_living']].head()"
   ]
  },
  {
   "cell_type": "code",
   "execution_count": 11,
   "metadata": {
    "collapsed": true
   },
   "outputs": [],
   "source": [
    "model1 = linear_model.LinearRegression().fit(df_house_train[['sqft_living', 'bedrooms', 'bathrooms','lat','long']], df_house_train[['price']])\n",
    "model2 = linear_model.LinearRegression().fit(df_house_train[['sqft_living', 'bedrooms', 'bathrooms','lat','long','bed_bath_rooms']], df_house_train[['price']])\n",
    "model3 = linear_model.LinearRegression().fit(df_house_train[['sqft_living', 'bedrooms', 'bathrooms','lat','long','bed_bath_rooms','bedrooms_squared','log_sqft_living','lat_plus_long']], df_house_train[['price']])"
   ]
  },
  {
   "cell_type": "code",
   "execution_count": 12,
   "metadata": {
    "collapsed": false
   },
   "outputs": [
    {
     "data": {
      "text/plain": [
       "(array([[  3.12258646e+02,  -5.95865332e+04,   1.57067421e+04,\n",
       "           6.58619264e+05,  -3.09374351e+05]]),\n",
       " array([[  3.06610053e+02,  -1.13446368e+05,  -7.14613083e+04,\n",
       "           6.54844630e+05,  -2.94298969e+05,   2.55796520e+04]]),\n",
       " array([[  5.29422820e+02,   3.45142296e+04,   6.70607813e+04,\n",
       "           5.34085611e+05,  -4.06750711e+05,  -8.57050439e+03,\n",
       "          -6.78858667e+03,  -5.61831484e+05,   1.27334900e+05]]))"
      ]
     },
     "execution_count": 12,
     "metadata": {},
     "output_type": "execute_result"
    }
   ],
   "source": [
    "model1.coef_, model2.coef_, model3.coef_\n"
   ]
  },
  {
   "cell_type": "code",
   "execution_count": 24,
   "metadata": {
    "collapsed": false
   },
   "outputs": [],
   "source": [
    "predictions_model1 = model1.predict(df_house_train[['sqft_living', 'bedrooms', 'bathrooms','lat','long']])\n",
    "predictions_model2 = model2.predict(df_house_train[['sqft_living', 'bedrooms', 'bathrooms','lat','long','bed_bath_rooms']])\n",
    "predictions_model3 = model3.predict(df_house_train[['sqft_living', 'bedrooms', 'bathrooms','lat','long','bed_bath_rooms','bedrooms_squared','log_sqft_living','lat_plus_long']])\n",
    "\n",
    "predictions_model1_test = model1.predict(df_house_test[['sqft_living', 'bedrooms', 'bathrooms','lat','long']])\n",
    "predictions_model2_test = model2.predict(df_house_test[['sqft_living', 'bedrooms', 'bathrooms','lat','long','bed_bath_rooms']])\n",
    "predictions_model3_test = model3.predict(df_house_test[['sqft_living', 'bedrooms', 'bathrooms','lat','long','bed_bath_rooms','bedrooms_squared','log_sqft_living','lat_plus_long']])"
   ]
  },
  {
   "cell_type": "code",
   "execution_count": 30,
   "metadata": {
    "collapsed": false
   },
   "outputs": [
    {
     "name": "stdout",
     "output_type": "stream",
     "text": [
      "price    9.678800e+14\n",
      "dtype: float64 price    9.584196e+14\n",
      "dtype: float64 price    9.034365e+14\n",
      "dtype: float64\n",
      "price    2.255005e+14\n",
      "dtype: float64 price    2.233775e+14\n",
      "dtype: float64 price    2.592363e+14\n",
      "dtype: float64\n"
     ]
    }
   ],
   "source": [
    "RSS_model1 = ((df_house_train[['price']] - predictions_model1)**2).sum()\n",
    "RSS_model2 = ((df_house_train[['price']] - predictions_model2)**2).sum()\n",
    "RSS_model3 = ((df_house_train[['price']] - predictions_model3)**2).sum()\n",
    "\n",
    "RSS_test_model1 = ((df_house_test[['price']] - predictions_model1_test)**2).sum()\n",
    "RSS_test_model2 = ((df_house_test[['price']] - predictions_model2_test)**2).sum()\n",
    "RSS_test_model3 = ((df_house_test[['price']] - predictions_model3_test)**2).sum()\n",
    "\n",
    "print(RSS_model1, RSS_model2, RSS_model3)\n",
    "print(RSS_test_model1, RSS_test_model2, RSS_test_model3)"
   ]
  },
  {
   "cell_type": "code",
   "execution_count": null,
   "metadata": {
    "collapsed": true
   },
   "outputs": [],
   "source": [
    "\n"
   ]
  }
 ],
 "metadata": {
  "anaconda-cloud": {},
  "kernelspec": {
   "display_name": "Python [Root]",
   "language": "python",
   "name": "Python [Root]"
  },
  "language_info": {
   "codemirror_mode": {
    "name": "ipython",
    "version": 3
   },
   "file_extension": ".py",
   "mimetype": "text/x-python",
   "name": "python",
   "nbconvert_exporter": "python",
   "pygments_lexer": "ipython3",
   "version": "3.5.2"
  }
 },
 "nbformat": 4,
 "nbformat_minor": 0
}
