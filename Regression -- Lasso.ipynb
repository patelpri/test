{
 "cells": [
  {
   "cell_type": "code",
   "execution_count": 1,
   "metadata": {
    "collapsed": true
   },
   "outputs": [],
   "source": [
    "import pandas as pd\n",
    "\n",
    "dtype_dict = {'bathrooms':float, 'waterfront':int, 'sqft_above':int, 'sqft_living15':float, 'grade':int, 'yr_renovated':int, 'price':float, 'bedrooms':float, 'zipcode':str, 'long':float, 'sqft_lot15':float, 'sqft_living':float, 'floors':float, 'condition':int, 'lat':float, 'date':str, 'sqft_basement':int, 'yr_built':int, 'id':str, 'sqft_lot':int, 'view':int}\n",
    "\n",
    "sales = pd.read_csv('kc_house_data.csv', dtype=dtype_dict)"
   ]
  },
  {
   "cell_type": "code",
   "execution_count": 2,
   "metadata": {
    "collapsed": true
   },
   "outputs": [],
   "source": [
    "from math import log, sqrt\n",
    "sales['sqft_living_sqrt'] = sales['sqft_living'].apply(sqrt)\n",
    "sales['sqft_lot_sqrt'] = sales['sqft_lot'].apply(sqrt)\n",
    "sales['bedrooms_square'] = sales['bedrooms']*sales['bedrooms']\n",
    "sales['floors_square'] = sales['floors']*sales['floors']"
   ]
  },
  {
   "cell_type": "markdown",
   "metadata": {},
   "source": [
    "Squaring bedrooms will increase the separation between not many bedrooms (e.g. 1) and lots of bedrooms (e.g. 4) since 1^2 = 1 but 4^2 = 16. Consequently this variable will mostly affect houses with many bedrooms.\n",
    "On the other hand, taking square root of sqft_living will decrease the separation between big house and small house. The owner may not be exactly twice as happy for getting a house that is twice as big.\n"
   ]
  },
  {
   "cell_type": "markdown",
   "metadata": {},
   "source": [
    "Using the entire house dataset, learn regression weights using an L1 penalty of 5e2. Make sure to add \"normalize=True\" when creating the Lasso object. Refer to the following code snippet for the list of features.\n",
    "\n",
    "Note. From here on, the list 'all_features' refers to the list defined in this snippet."
   ]
  },
  {
   "cell_type": "code",
   "execution_count": 3,
   "metadata": {
    "collapsed": false
   },
   "outputs": [
    {
     "data": {
      "text/plain": [
       "Lasso(alpha=500.0, copy_X=True, fit_intercept=True, max_iter=1000,\n",
       "   normalize=True, positive=False, precompute=False, random_state=None,\n",
       "   selection='cyclic', tol=0.0001, warm_start=False)"
      ]
     },
     "execution_count": 3,
     "metadata": {},
     "output_type": "execute_result"
    }
   ],
   "source": [
    "from sklearn import linear_model  # using scikit-learn\n",
    "\n",
    "all_features = ['bedrooms', 'bedrooms_square',\n",
    "            'bathrooms',\n",
    "            'sqft_living', 'sqft_living_sqrt',\n",
    "            'sqft_lot', 'sqft_lot_sqrt',\n",
    "            'floors', 'floors_square',\n",
    "            'waterfront', 'view', 'condition', 'grade',\n",
    "            'sqft_above',\n",
    "            'sqft_basement',\n",
    "            'yr_built', 'yr_renovated']\n",
    "\n",
    "model_all = linear_model.Lasso(alpha=5e2, normalize=True) # set parameters\n",
    "model_all.fit(sales[all_features], sales['price']) # learn weights"
   ]
  },
  {
   "cell_type": "code",
   "execution_count": 5,
   "metadata": {
    "collapsed": false
   },
   "outputs": [
    {
     "data": {
      "text/plain": [
       "array([     0.        ,      0.        ,      0.        ,    134.43931396,\n",
       "            0.        ,      0.        ,      0.        ,      0.        ,\n",
       "            0.        ,      0.        ,  24750.00458561,      0.        ,\n",
       "        61749.10309071,      0.        ,      0.        ,     -0.        ,\n",
       "            0.        ])"
      ]
     },
     "execution_count": 5,
     "metadata": {},
     "output_type": "execute_result"
    }
   ],
   "source": [
    "model_all.coef_  "
   ]
  },
  {
   "cell_type": "markdown",
   "metadata": {},
   "source": [
    "sqft_living, view, and grade are the features chosen"
   ]
  },
  {
   "cell_type": "code",
   "execution_count": 6,
   "metadata": {
    "collapsed": true
   },
   "outputs": [],
   "source": [
    "testing = pd.read_csv('wk3_kc_house_test_data.csv', dtype=dtype_dict)\n",
    "training = pd.read_csv('wk3_kc_house_train_data.csv', dtype=dtype_dict)\n",
    "validation = pd.read_csv('wk3_kc_house_valid_data.csv', dtype=dtype_dict)"
   ]
  },
  {
   "cell_type": "code",
   "execution_count": 7,
   "metadata": {
    "collapsed": true
   },
   "outputs": [],
   "source": [
    "testing['sqft_living_sqrt'] = testing['sqft_living'].apply(sqrt)\n",
    "testing['sqft_lot_sqrt'] = testing['sqft_lot'].apply(sqrt)\n",
    "testing['bedrooms_square'] = testing['bedrooms']*testing['bedrooms']\n",
    "testing['floors_square'] = testing['floors']*testing['floors']\n",
    "\n",
    "training['sqft_living_sqrt'] = training['sqft_living'].apply(sqrt)\n",
    "training['sqft_lot_sqrt'] = training['sqft_lot'].apply(sqrt)\n",
    "training['bedrooms_square'] = training['bedrooms']*training['bedrooms']\n",
    "training['floors_square'] = training['floors']*training['floors']\n",
    "\n",
    "validation['sqft_living_sqrt'] = validation['sqft_living'].apply(sqrt)\n",
    "validation['sqft_lot_sqrt'] = validation['sqft_lot'].apply(sqrt)\n",
    "validation['bedrooms_square'] = validation['bedrooms']*validation['bedrooms']\n",
    "validation['floors_square'] = validation['floors']*validation['floors']"
   ]
  },
  {
   "cell_type": "code",
   "execution_count": 19,
   "metadata": {
    "collapsed": false
   },
   "outputs": [
    {
     "name": "stdout",
     "output_type": "stream",
     "text": [
      "[(398213327300134.25, 10.0, Lasso(alpha=10.0, copy_X=True, fit_intercept=True, max_iter=1000,\n",
      "   normalize=True, positive=False, precompute=False, random_state=None,\n",
      "   selection='cyclic', tol=0.0001, warm_start=False)), (399041900253348.25, 31.622776601683793, Lasso(alpha=31.622776601683793, copy_X=True, fit_intercept=True,\n",
      "   max_iter=1000, normalize=True, positive=False, precompute=False,\n",
      "   random_state=None, selection='cyclic', tol=0.0001, warm_start=False)), (429791604072558.0, 100.0, Lasso(alpha=100.0, copy_X=True, fit_intercept=True, max_iter=1000,\n",
      "   normalize=True, positive=False, precompute=False, random_state=None,\n",
      "   selection='cyclic', tol=0.0001, warm_start=False)), (463739831045119.56, 316.22776601683796, Lasso(alpha=316.22776601683796, copy_X=True, fit_intercept=True,\n",
      "   max_iter=1000, normalize=True, positive=False, precompute=False,\n",
      "   random_state=None, selection='cyclic', tol=0.0001, warm_start=False)), (645898733633810.4, 1000.0, Lasso(alpha=1000.0, copy_X=True, fit_intercept=True, max_iter=1000,\n",
      "   normalize=True, positive=False, precompute=False, random_state=None,\n",
      "   selection='cyclic', tol=0.0001, warm_start=False)), (1222506859427156.8, 3162.2776601683795, Lasso(alpha=3162.2776601683795, copy_X=True, fit_intercept=True,\n",
      "   max_iter=1000, normalize=True, positive=False, precompute=False,\n",
      "   random_state=None, selection='cyclic', tol=0.0001, warm_start=False)), (1222506859427156.8, 10000.0, Lasso(alpha=10000.0, copy_X=True, fit_intercept=True, max_iter=1000,\n",
      "   normalize=True, positive=False, precompute=False, random_state=None,\n",
      "   selection='cyclic', tol=0.0001, warm_start=False)), (1222506859427156.8, 31622.776601683792, Lasso(alpha=31622.776601683792, copy_X=True, fit_intercept=True,\n",
      "   max_iter=1000, normalize=True, positive=False, precompute=False,\n",
      "   random_state=None, selection='cyclic', tol=0.0001, warm_start=False)), (1222506859427156.8, 100000.0, Lasso(alpha=100000.0, copy_X=True, fit_intercept=True, max_iter=1000,\n",
      "   normalize=True, positive=False, precompute=False, random_state=None,\n",
      "   selection='cyclic', tol=0.0001, warm_start=False)), (1222506859427156.8, 316227.76601683791, Lasso(alpha=316227.76601683791, copy_X=True, fit_intercept=True,\n",
      "   max_iter=1000, normalize=True, positive=False, precompute=False,\n",
      "   random_state=None, selection='cyclic', tol=0.0001, warm_start=False)), (1222506859427156.8, 1000000.0, Lasso(alpha=1000000.0, copy_X=True, fit_intercept=True, max_iter=1000,\n",
      "   normalize=True, positive=False, precompute=False, random_state=None,\n",
      "   selection='cyclic', tol=0.0001, warm_start=False)), (1222506859427156.8, 3162277.6601683795, Lasso(alpha=3162277.6601683795, copy_X=True, fit_intercept=True,\n",
      "   max_iter=1000, normalize=True, positive=False, precompute=False,\n",
      "   random_state=None, selection='cyclic', tol=0.0001, warm_start=False)), (1222506859427156.8, 10000000.0, Lasso(alpha=10000000.0, copy_X=True, fit_intercept=True, max_iter=1000,\n",
      "   normalize=True, positive=False, precompute=False, random_state=None,\n",
      "   selection='cyclic', tol=0.0001, warm_start=False))]\n"
     ]
    }
   ],
   "source": [
    "import numpy as np\n",
    "l = []\n",
    "for l1_penalty in np.logspace(1,7,num=13):\n",
    "    model = linear_model.Lasso(alpha=l1_penalty, normalize=True)\n",
    "    model.fit(training[all_features], training['price'])\n",
    "    predictions = model.predict(validation[all_features])\n",
    "    RSS = ((validation['price'] - predictions)**2).sum()\n",
    "    l.append((RSS, l1_penalty, model))\n",
    "    \n",
    "l.sort()\n",
    "print(l)"
   ]
  },
  {
   "cell_type": "code",
   "execution_count": 20,
   "metadata": {
    "collapsed": false
   },
   "outputs": [
    {
     "data": {
      "text/plain": [
       "15"
      ]
     },
     "execution_count": 20,
     "metadata": {},
     "output_type": "execute_result"
    }
   ],
   "source": [
    "np.count_nonzero(l[0][2].coef_) + np.count_nonzero(l[0][2].intercept_)"
   ]
  },
  {
   "cell_type": "markdown",
   "metadata": {},
   "source": [
    "What if we absolutely wanted to limit ourselves to, say, 7 features? This may be important if we want to derive \"a rule of thumb\" --- an interpretable model that has only a few features in them.\n",
    "\n",
    "You are going to implement a simple, two phase procedure to achieve this goal:\n",
    "\n",
    "Explore a large range of ‘l1_penalty’ values to find a narrow region of ‘l1_penalty’ values where models are likely to have the desired number of non-zero weights.\n",
    "Further explore the narrow region you found to find a good value for ‘l1_penalty’ that achieves the desired sparsity. Here, we will again use a validation set to choose the best value for ‘l1_penalty’."
   ]
  },
  {
   "cell_type": "code",
   "execution_count": 22,
   "metadata": {
    "collapsed": true
   },
   "outputs": [],
   "source": [
    "max_nonzeros=7"
   ]
  },
  {
   "cell_type": "code",
   "execution_count": 23,
   "metadata": {
    "collapsed": false
   },
   "outputs": [
    {
     "name": "stdout",
     "output_type": "stream",
     "text": [
      "[(1, 3359.8182862837812, Lasso(alpha=3359.8182862837812, copy_X=True, fit_intercept=True,\n",
      "   max_iter=1000, normalize=True, positive=False, precompute=False,\n",
      "   random_state=None, selection='cyclic', tol=0.0001, warm_start=False)), (1, 4832.9302385717519, Lasso(alpha=4832.9302385717519, copy_X=True, fit_intercept=True,\n",
      "   max_iter=1000, normalize=True, positive=False, precompute=False,\n",
      "   random_state=None, selection='cyclic', tol=0.0001, warm_start=False)), (1, 6951.9279617756056, Lasso(alpha=6951.9279617756056, copy_X=True, fit_intercept=True,\n",
      "   max_iter=1000, normalize=True, positive=False, precompute=False,\n",
      "   random_state=None, selection='cyclic', tol=0.0001, warm_start=False)), (1, 10000.0, Lasso(alpha=10000.0, copy_X=True, fit_intercept=True, max_iter=1000,\n",
      "   normalize=True, positive=False, precompute=False, random_state=None,\n",
      "   selection='cyclic', tol=0.0001, warm_start=False)), (2, 2335.7214690901214, Lasso(alpha=2335.7214690901214, copy_X=True, fit_intercept=True,\n",
      "   max_iter=1000, normalize=True, positive=False, precompute=False,\n",
      "   random_state=None, selection='cyclic', tol=0.0001, warm_start=False)), (3, 1128.8378916846884, Lasso(alpha=1128.8378916846884, copy_X=True, fit_intercept=True,\n",
      "   max_iter=1000, normalize=True, positive=False, precompute=False,\n",
      "   random_state=None, selection='cyclic', tol=0.0001, warm_start=False)), (3, 1623.776739188721, Lasso(alpha=1623.776739188721, copy_X=True, fit_intercept=True, max_iter=1000,\n",
      "   normalize=True, positive=False, precompute=False, random_state=None,\n",
      "   selection='cyclic', tol=0.0001, warm_start=False)), (5, 784.75997035146065, Lasso(alpha=784.75997035146065, copy_X=True, fit_intercept=True,\n",
      "   max_iter=1000, normalize=True, positive=False, precompute=False,\n",
      "   random_state=None, selection='cyclic', tol=0.0001, warm_start=False)), (6, 263.66508987303581, Lasso(alpha=263.66508987303581, copy_X=True, fit_intercept=True,\n",
      "   max_iter=1000, normalize=True, positive=False, precompute=False,\n",
      "   random_state=None, selection='cyclic', tol=0.0001, warm_start=False)), (6, 379.26901907322497, Lasso(alpha=379.26901907322497, copy_X=True, fit_intercept=True,\n",
      "   max_iter=1000, normalize=True, positive=False, precompute=False,\n",
      "   random_state=None, selection='cyclic', tol=0.0001, warm_start=False)), (6, 545.55947811685144, Lasso(alpha=545.55947811685144, copy_X=True, fit_intercept=True,\n",
      "   max_iter=1000, normalize=True, positive=False, precompute=False,\n",
      "   random_state=None, selection='cyclic', tol=0.0001, warm_start=False)), (7, 183.29807108324357, Lasso(alpha=183.29807108324357, copy_X=True, fit_intercept=True,\n",
      "   max_iter=1000, normalize=True, positive=False, precompute=False,\n",
      "   random_state=None, selection='cyclic', tol=0.0001, warm_start=False)), (10, 127.42749857031335, Lasso(alpha=127.42749857031335, copy_X=True, fit_intercept=True,\n",
      "   max_iter=1000, normalize=True, positive=False, precompute=False,\n",
      "   random_state=None, selection='cyclic', tol=0.0001, warm_start=False)), (11, 88.586679041008225, Lasso(alpha=88.586679041008225, copy_X=True, fit_intercept=True,\n",
      "   max_iter=1000, normalize=True, positive=False, precompute=False,\n",
      "   random_state=None, selection='cyclic', tol=0.0001, warm_start=False)), (12, 61.584821106602639, Lasso(alpha=61.584821106602639, copy_X=True, fit_intercept=True,\n",
      "   max_iter=1000, normalize=True, positive=False, precompute=False,\n",
      "   random_state=None, selection='cyclic', tol=0.0001, warm_start=False)), (13, 42.813323987193932, Lasso(alpha=42.813323987193932, copy_X=True, fit_intercept=True,\n",
      "   max_iter=1000, normalize=True, positive=False, precompute=False,\n",
      "   random_state=None, selection='cyclic', tol=0.0001, warm_start=False)), (15, 10.0, Lasso(alpha=10.0, copy_X=True, fit_intercept=True, max_iter=1000,\n",
      "   normalize=True, positive=False, precompute=False, random_state=None,\n",
      "   selection='cyclic', tol=0.0001, warm_start=False)), (15, 14.384498882876629, Lasso(alpha=14.384498882876629, copy_X=True, fit_intercept=True,\n",
      "   max_iter=1000, normalize=True, positive=False, precompute=False,\n",
      "   random_state=None, selection='cyclic', tol=0.0001, warm_start=False)), (15, 20.691380811147901, Lasso(alpha=20.691380811147901, copy_X=True, fit_intercept=True,\n",
      "   max_iter=1000, normalize=True, positive=False, precompute=False,\n",
      "   random_state=None, selection='cyclic', tol=0.0001, warm_start=False)), (15, 29.763514416313178, Lasso(alpha=29.763514416313178, copy_X=True, fit_intercept=True,\n",
      "   max_iter=1000, normalize=True, positive=False, precompute=False,\n",
      "   random_state=None, selection='cyclic', tol=0.0001, warm_start=False))]\n"
     ]
    }
   ],
   "source": [
    "l = []\n",
    "for l1_penalty in np.logspace(1,4,num=20):\n",
    "    model = linear_model.Lasso(alpha=l1_penalty, normalize=True)\n",
    "    model.fit(training[all_features], training['price'])\n",
    "    nonzeros = np.count_nonzero(model.coef_) + np.count_nonzero(model.intercept_)\n",
    "    #predictions = model.predict(validation[all_features])\n",
    "    #RSS = ((validation['price'] - predictions)**2).sum()\n",
    "    l.append((nonzeros, l1_penalty, model))\n",
    "l.sort()\n",
    "print(l)"
   ]
  },
  {
   "cell_type": "code",
   "execution_count": 32,
   "metadata": {
    "collapsed": true
   },
   "outputs": [],
   "source": [
    "l1_penalty_min=l[8][1]"
   ]
  },
  {
   "cell_type": "code",
   "execution_count": 33,
   "metadata": {
    "collapsed": false
   },
   "outputs": [
    {
     "name": "stdout",
     "output_type": "stream",
     "text": [
      "263.665089873 127.42749857\n"
     ]
    }
   ],
   "source": [
    "l1_penalty_max=l[12][1]\n",
    "print(l1_penalty_min, l1_penalty_max)"
   ]
  },
  {
   "cell_type": "code",
   "execution_count": 35,
   "metadata": {
    "collapsed": false
   },
   "outputs": [
    {
     "name": "stdout",
     "output_type": "stream",
     "text": [
      "[(440037365263316.94, 156.10909673930752, Lasso(alpha=156.10909673930752, copy_X=True, fit_intercept=True,\n",
      "   max_iter=1000, normalize=True, positive=False, precompute=False,\n",
      "   random_state=None, selection='cyclic', tol=0.0001, warm_start=False)), (440777489641605.4, 163.27949628155608, Lasso(alpha=163.27949628155608, copy_X=True, fit_intercept=True,\n",
      "   max_iter=1000, normalize=True, positive=False, precompute=False,\n",
      "   random_state=None, selection='cyclic', tol=0.0001, warm_start=False)), (441566698090139.0, 170.44989582380464, Lasso(alpha=170.44989582380464, copy_X=True, fit_intercept=True,\n",
      "   max_iter=1000, normalize=True, positive=False, precompute=False,\n",
      "   random_state=None, selection='cyclic', tol=0.0001, warm_start=False)), (442406413188665.0, 177.6202953660532, Lasso(alpha=177.6202953660532, copy_X=True, fit_intercept=True, max_iter=1000,\n",
      "   normalize=True, positive=False, precompute=False, random_state=None,\n",
      "   selection='cyclic', tol=0.0001, warm_start=False)), (443296716874313.4, 184.79069490830176, Lasso(alpha=184.79069490830176, copy_X=True, fit_intercept=True,\n",
      "   max_iter=1000, normalize=True, positive=False, precompute=False,\n",
      "   random_state=None, selection='cyclic', tol=0.0001, warm_start=False)), (444239780526141.25, 191.96109445055029, Lasso(alpha=191.96109445055029, copy_X=True, fit_intercept=True,\n",
      "   max_iter=1000, normalize=True, positive=False, precompute=False,\n",
      "   random_state=None, selection='cyclic', tol=0.0001, warm_start=False)), (445230739842613.8, 199.13149399279885, Lasso(alpha=199.13149399279885, copy_X=True, fit_intercept=True,\n",
      "   max_iter=1000, normalize=True, positive=False, precompute=False,\n",
      "   random_state=None, selection='cyclic', tol=0.0001, warm_start=False))]\n"
     ]
    }
   ],
   "source": [
    "l=[]\n",
    "for l1_penalty in np.linspace(l1_penalty_min,l1_penalty_max,20):\n",
    "    model = linear_model.Lasso(alpha=l1_penalty, normalize=True)\n",
    "    model.fit(training[all_features], training['price'])\n",
    "    predictions = model.predict(validation[all_features])\n",
    "    RSS = ((validation['price'] - predictions)**2).sum()\n",
    "    nonzeros = np.count_nonzero(model.coef_) + np.count_nonzero(model.intercept_)\n",
    "    if nonzeros == max_nonzeros:\n",
    "        l.append((RSS, l1_penalty, model))\n",
    "        \n",
    "l.sort()\n",
    "print(l)"
   ]
  },
  {
   "cell_type": "code",
   "execution_count": 37,
   "metadata": {
    "collapsed": false
   },
   "outputs": [
    {
     "name": "stdout",
     "output_type": "stream",
     "text": [
      "[ -0.00000000e+00  -0.00000000e+00   1.06108903e+04   1.63380252e+02\n",
      "   0.00000000e+00  -0.00000000e+00  -0.00000000e+00   0.00000000e+00\n",
      "   0.00000000e+00   5.06451687e+05   4.19600436e+04   0.00000000e+00\n",
      "   1.16253554e+05   0.00000000e+00   0.00000000e+00  -2.61223488e+03\n",
      "   0.00000000e+00] 4422190.27912\n"
     ]
    }
   ],
   "source": [
    "print(l[0][2].coef_, l[0][2].intercept_)"
   ]
  },
  {
   "cell_type": "markdown",
   "metadata": {},
   "source": [
    "all_features = ['bedrooms', 'bedrooms_square',\n",
    "            'bathrooms',\n",
    "            'sqft_living', 'sqft_living_sqrt',\n",
    "            'sqft_lot', 'sqft_lot_sqrt',\n",
    "            'floors', 'floors_square',\n",
    "            'waterfront', 'view', 'condition', 'grade',\n",
    "            'sqft_above',\n",
    "            'sqft_basement',\n",
    "            'yr_built', 'yr_renovated']\n",
    "\n",
    "bathrooms, sqft_living, waterfront, view, grade, yr_built, and intercept are non zero.. (7 values)"
   ]
  },
  {
   "cell_type": "code",
   "execution_count": null,
   "metadata": {
    "collapsed": true
   },
   "outputs": [],
   "source": []
  }
 ],
 "metadata": {
  "anaconda-cloud": {},
  "kernelspec": {
   "display_name": "Python [Root]",
   "language": "python",
   "name": "Python [Root]"
  },
  "language_info": {
   "codemirror_mode": {
    "name": "ipython",
    "version": 3
   },
   "file_extension": ".py",
   "mimetype": "text/x-python",
   "name": "python",
   "nbconvert_exporter": "python",
   "pygments_lexer": "ipython3",
   "version": "3.5.2"
  }
 },
 "nbformat": 4,
 "nbformat_minor": 0
}
